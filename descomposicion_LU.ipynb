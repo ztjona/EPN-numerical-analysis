{
 "cells": [
  {
   "cell_type": "markdown",
   "metadata": {},
   "source": [
    "# Descomposición LU"
   ]
  },
  {
   "cell_type": "code",
   "execution_count": 1,
   "metadata": {},
   "outputs": [],
   "source": [
    "%load_ext autoreload"
   ]
  },
  {
   "cell_type": "code",
   "execution_count": 2,
   "metadata": {},
   "outputs": [
    {
     "name": "stdout",
     "output_type": "stream",
     "text": [
      "[07-16 17:47:08][INFO] 2024-07-16 17:47:08.612134\n",
      "[07-16 17:47:08][INFO] \n",
      "[[ 1.  1.  0.  3.]\n",
      " [ 0. -1. -1. -5.]\n",
      " [ 0. -4. -1. -7.]\n",
      " [ 0.  3.  3.  2.]]\n",
      "[07-16 17:47:08][INFO] \n",
      "[[  1.   1.   0.   3.]\n",
      " [  0.  -1.  -1.  -5.]\n",
      " [  0.   0.   3.  13.]\n",
      " [  0.   0.   0. -13.]]\n",
      "[07-16 17:47:08][INFO] \n",
      "[[  1.   1.   0.   3.]\n",
      " [  0.  -1.  -1.  -5.]\n",
      " [  0.   0.   3.  13.]\n",
      " [  0.   0.   0. -13.]]\n",
      "[07-16 17:47:08][INFO] \n",
      "[[  1.   1.   0.   3.]\n",
      " [  0.  -1.  -1.  -5.]\n",
      " [  0.   0.   3.  13.]\n",
      " [  0.   0.   0. -13.]]\n"
     ]
    }
   ],
   "source": [
    "%autoreload 2\n",
    "from src import descomposicion_LU, eliminacion_gaussiana\n",
    "\n",
    "A = [[1, 1, 0, 3], [2, 1, -1, 1], [3, -1, -1, 2], [-1, 2, 3, -1]]\n",
    "b = [4,1,-3,4]\n",
    "L, U = descomposicion_LU(A)"
   ]
  },
  {
   "cell_type": "code",
   "execution_count": 3,
   "metadata": {},
   "outputs": [
    {
     "data": {
      "text/plain": [
       "array([[ 1.,  1.,  0.,  3.],\n",
       "       [ 2.,  1., -1.,  1.],\n",
       "       [ 3., -1., -1.,  2.],\n",
       "       [-1.,  2.,  3., -1.]])"
      ]
     },
     "execution_count": 3,
     "metadata": {},
     "output_type": "execute_result"
    }
   ],
   "source": [
    "# Verificación\n",
    "import numpy as np\n",
    "\n",
    "np.matmul(L, U)"
   ]
  },
  {
   "cell_type": "code",
   "execution_count": 4,
   "metadata": {},
   "outputs": [
    {
     "name": "stdout",
     "output_type": "stream",
     "text": [
      "[07-16 17:47:08][INFO] \n",
      "[[  1   1   0   3   4]\n",
      " [  0  -1  -1  -5  -7]\n",
      " [  0  -4  -1  -7 -15]\n",
      " [  0   3   3   2   8]]\n",
      "[07-16 17:47:08][INFO] \n",
      "[[  1   1   0   3   4]\n",
      " [  0  -1  -1  -5  -7]\n",
      " [  0   0   3  13  13]\n",
      " [  0   0   0 -13 -13]]\n",
      "[07-16 17:47:08][INFO] \n",
      "[[  1   1   0   3   4]\n",
      " [  0  -1  -1  -5  -7]\n",
      " [  0   0   3  13  13]\n",
      " [  0   0   0 -13 -13]]\n"
     ]
    },
    {
     "data": {
      "text/plain": [
       "array([-1.,  2.,  0.,  1.])"
      ]
     },
     "execution_count": 4,
     "metadata": {},
     "output_type": "execute_result"
    }
   ],
   "source": [
    "# Solución, matriz aumentada\n",
    "Ab = [[1, 1, 0, 3, 4], [2, 1, -1, 1, 1], [3, -1, -1, 2, -3], [-1, 2, 3, -1, 4]]\n",
    "eliminacion_gaussiana(Ab)"
   ]
  },
  {
   "cell_type": "code",
   "execution_count": 23,
   "metadata": {},
   "outputs": [
    {
     "name": "stdout",
     "output_type": "stream",
     "text": [
      "[07-16 17:51:46][INFO] \n",
      "[[ 1.  2. -1. -1.]\n",
      " [ 0. -1.  0. -1.]\n",
      " [ 0. -1.  2.  1.]\n",
      " [ 0.  2.  0.  4.]]\n",
      "[07-16 17:51:46][INFO] \n",
      "[[ 1.  2. -1. -1.]\n",
      " [ 0. -1.  0. -1.]\n",
      " [ 0.  0.  2.  2.]\n",
      " [ 0.  0.  0.  2.]]\n",
      "[07-16 17:51:46][INFO] \n",
      "[[ 1.  2. -1. -1.]\n",
      " [ 0. -1.  0. -1.]\n",
      " [ 0.  0.  2.  2.]\n",
      " [ 0.  0.  0.  2.]]\n",
      "[07-16 17:51:46][INFO] \n",
      "[[ 1.  2. -1. -1.]\n",
      " [ 0. -1.  0. -1.]\n",
      " [ 0.  0.  2.  2.]\n",
      " [ 0.  0.  0.  2.]]\n",
      "[[ 1.  0.  0.  0.]\n",
      " [ 2.  1.  0.  0.]\n",
      " [ 1.  1.  1.  0.]\n",
      " [ 1. -2.  0.  1.]]\n",
      "[[ 1.  2. -1. -1.]\n",
      " [ 0. -1.  0. -1.]\n",
      " [ 0.  0.  2.  2.]\n",
      " [ 0.  0.  0.  2.]]\n"
     ]
    }
   ],
   "source": [
    "%autoreload 2\n",
    "from src import eliminacion_gaussiana, descomposicion_LU\n",
    "A = [[1, 2,-1, -1], [2, 3, -2,  -3], [1, 1, 1, 0], [1, 4, -1, 3]]\n",
    "\n",
    "L, U = descomposicion_LU(A)\n",
    "print(L)\n",
    "print(U)"
   ]
  },
  {
   "cell_type": "code",
   "execution_count": 24,
   "metadata": {},
   "outputs": [
    {
     "data": {
      "text/plain": [
       "array([[ 1.,  2., -1., -1.],\n",
       "       [ 2.,  3., -2., -3.],\n",
       "       [ 1.,  1.,  1.,  0.],\n",
       "       [ 1.,  4., -1.,  3.]])"
      ]
     },
     "execution_count": 24,
     "metadata": {},
     "output_type": "execute_result"
    }
   ],
   "source": [
    "np.matmul(L, U)"
   ]
  },
  {
   "cell_type": "code",
   "execution_count": 33,
   "metadata": {},
   "outputs": [
    {
     "name": "stdout",
     "output_type": "stream",
     "text": [
      "[07-16 17:53:55][INFO] Completar!\n"
     ]
    }
   ],
   "source": [
    "%autoreload 2\n",
    "from src import eliminacion_gaussiana, descomposicion_LU, resolver_LU\n",
    "b = [4,1,-3,4]\n",
    "resolver_LU(L, U, b)"
   ]
  }
 ],
 "metadata": {
  "kernelspec": {
   "display_name": "Python 3",
   "language": "python",
   "name": "python3"
  },
  "language_info": {
   "codemirror_mode": {
    "name": "ipython",
    "version": 3
   },
   "file_extension": ".py",
   "mimetype": "text/x-python",
   "name": "python",
   "nbconvert_exporter": "python",
   "pygments_lexer": "ipython3",
   "version": "3.10.11"
  }
 },
 "nbformat": 4,
 "nbformat_minor": 2
}
