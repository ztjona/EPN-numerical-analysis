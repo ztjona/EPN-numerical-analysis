{
 "cells": [
  {
   "cell_type": "markdown",
   "metadata": {},
   "source": [
    "# Descomposición LU"
   ]
  },
  {
   "cell_type": "code",
   "execution_count": 1,
   "metadata": {},
   "outputs": [],
   "source": [
    "%load_ext autoreload"
   ]
  },
  {
   "cell_type": "code",
   "execution_count": 2,
   "metadata": {},
   "outputs": [
    {
     "name": "stdout",
     "output_type": "stream",
     "text": [
      "[07-18 11:33:31][INFO] 2024-07-18 11:33:31.824685\n",
      "[07-18 11:33:31][INFO] \n",
      "[[ 1.  2. -1. -1.  4.]\n",
      " [ 0. -1.  0. -1. -7.]\n",
      " [ 0. -1.  2.  1. -7.]\n",
      " [ 0.  2.  0.  4.  0.]]\n",
      "[07-18 11:33:31][INFO] \n",
      "[[  1.   2.  -1.  -1.   4.]\n",
      " [  0.  -1.   0.  -1.  -7.]\n",
      " [  0.   0.   2.   2.   0.]\n",
      " [  0.   0.   0.   2. -14.]]\n",
      "[07-18 11:33:31][INFO] \n",
      "[[  1.   2.  -1.  -1.   4.]\n",
      " [  0.  -1.   0.  -1.  -7.]\n",
      " [  0.   0.   2.   2.   0.]\n",
      " [  0.   0.   0.   2. -14.]]\n"
     ]
    },
    {
     "data": {
      "text/plain": [
       "array([-24.,  14.,   7.,  -7.])"
      ]
     },
     "execution_count": 2,
     "metadata": {},
     "output_type": "execute_result"
    }
   ],
   "source": [
    "%autoreload 2\n",
    "from src import descomposicion_LU, eliminacion_gaussiana, matriz_aumentada\n",
    "A = [[1, 2,-1, -1], [2, 3, -2,  -3], [1, 1, 1, 0], [1, 4, -1, 3]]\n",
    "b = [4,1,-3,4]\n",
    "\n",
    "Ab = matriz_aumentada(A, b)\n",
    "eliminacion_gaussiana(Ab)"
   ]
  },
  {
   "cell_type": "code",
   "execution_count": 3,
   "metadata": {},
   "outputs": [
    {
     "name": "stdout",
     "output_type": "stream",
     "text": [
      "[07-18 11:33:31][INFO] \n",
      "[[ 1.  2. -1. -1.]\n",
      " [ 0. -1.  0. -1.]\n",
      " [ 0. -1.  2.  1.]\n",
      " [ 0.  2.  0.  4.]]\n",
      "[07-18 11:33:31][INFO] \n",
      "[[ 1.  2. -1. -1.]\n",
      " [ 0. -1.  0. -1.]\n",
      " [ 0.  0.  2.  2.]\n",
      " [ 0.  0.  0.  2.]]\n",
      "[07-18 11:33:31][INFO] \n",
      "[[ 1.  2. -1. -1.]\n",
      " [ 0. -1.  0. -1.]\n",
      " [ 0.  0.  2.  2.]\n",
      " [ 0.  0.  0.  2.]]\n",
      "[07-18 11:33:31][INFO] \n",
      "[[ 1.  2. -1. -1.]\n",
      " [ 0. -1.  0. -1.]\n",
      " [ 0.  0.  2.  2.]\n",
      " [ 0.  0.  0.  2.]]\n"
     ]
    }
   ],
   "source": [
    "L, U = descomposicion_LU(A)"
   ]
  },
  {
   "cell_type": "code",
   "execution_count": 4,
   "metadata": {},
   "outputs": [
    {
     "name": "stdout",
     "output_type": "stream",
     "text": [
      "[07-18 11:33:31][INFO] \n",
      "[[ 1.  2. -1. -1.]\n",
      " [ 0. -1.  0. -1.]\n",
      " [ 0. -1.  2.  1.]\n",
      " [ 0.  2.  0.  4.]]\n",
      "[07-18 11:33:31][INFO] \n",
      "[[ 1.  2. -1. -1.]\n",
      " [ 0. -1.  0. -1.]\n",
      " [ 0.  0.  2.  2.]\n",
      " [ 0.  0.  0.  2.]]\n",
      "[07-18 11:33:31][INFO] \n",
      "[[ 1.  2. -1. -1.]\n",
      " [ 0. -1.  0. -1.]\n",
      " [ 0.  0.  2.  2.]\n",
      " [ 0.  0.  0.  2.]]\n",
      "[07-18 11:33:31][INFO] \n",
      "[[ 1.  2. -1. -1.]\n",
      " [ 0. -1.  0. -1.]\n",
      " [ 0.  0.  2.  2.]\n",
      " [ 0.  0.  0.  2.]]\n",
      "[[ 1.  0.  0.  0.]\n",
      " [ 2.  1.  0.  0.]\n",
      " [ 1.  1.  1.  0.]\n",
      " [ 1. -2.  0.  1.]]\n",
      "[[ 1.  2. -1. -1.]\n",
      " [ 0. -1.  0. -1.]\n",
      " [ 0.  0.  2.  2.]\n",
      " [ 0.  0.  0.  2.]]\n"
     ]
    }
   ],
   "source": [
    "%autoreload 2\n",
    "from src import descomposicion_LU\n",
    "\n",
    "L, U = descomposicion_LU(A)\n",
    "print(L)\n",
    "print(U)"
   ]
  },
  {
   "cell_type": "code",
   "execution_count": 5,
   "metadata": {},
   "outputs": [
    {
     "data": {
      "text/plain": [
       "array([[ 1.,  2., -1., -1.],\n",
       "       [ 2.,  3., -2., -3.],\n",
       "       [ 1.,  1.,  1.,  0.],\n",
       "       [ 1.,  4., -1.,  3.]])"
      ]
     },
     "execution_count": 5,
     "metadata": {},
     "output_type": "execute_result"
    }
   ],
   "source": [
    "import numpy as np\n",
    "\n",
    "np.matmul(L, U)"
   ]
  },
  {
   "cell_type": "code",
   "execution_count": 6,
   "metadata": {},
   "outputs": [
    {
     "name": "stdout",
     "output_type": "stream",
     "text": [
      "[07-18 11:33:32][INFO] Sustitución hacia adelante\n",
      "[07-18 11:33:32][INFO] y = \n",
      "[[  4.]\n",
      " [ -7.]\n",
      " [  0.]\n",
      " [-14.]]\n",
      "[07-18 11:33:32][INFO] Sustitución hacia atrás\n",
      "[07-18 11:33:32][INFO] i = 2\n",
      "[07-18 11:33:32][INFO] suma = [-14.]\n",
      "[07-18 11:33:32][INFO] U[i, i] = 2.0\n",
      "[07-18 11:33:32][INFO] y[i] = [0.]\n",
      "[07-18 11:33:32][INFO] i = 1\n",
      "[07-18 11:33:32][INFO] suma = [7.]\n",
      "[07-18 11:33:32][INFO] U[i, i] = -1.0\n",
      "[07-18 11:33:32][INFO] y[i] = [-7.]\n",
      "[07-18 11:33:32][INFO] i = 0\n",
      "[07-18 11:33:32][INFO] suma = [28.]\n",
      "[07-18 11:33:32][INFO] U[i, i] = 1.0\n",
      "[07-18 11:33:32][INFO] y[i] = [4.]\n"
     ]
    },
    {
     "data": {
      "text/plain": [
       "array([[-24.],\n",
       "       [ 14.],\n",
       "       [  7.],\n",
       "       [ -7.]])"
      ]
     },
     "execution_count": 6,
     "metadata": {},
     "output_type": "execute_result"
    }
   ],
   "source": [
    "%autoreload 2\n",
    "from src import eliminacion_gaussiana, descomposicion_LU, resolver_LU\n",
    "\n",
    "resolver_LU(L, U, b)"
   ]
  },
  {
   "cell_type": "code",
   "execution_count": 7,
   "metadata": {},
   "outputs": [
    {
     "data": {
      "text/plain": [
       "array([ 4.,  1., -3.,  4.])"
      ]
     },
     "execution_count": 7,
     "metadata": {},
     "output_type": "execute_result"
    }
   ],
   "source": [
    "np.matmul(L, [4, -7, 0, -14])"
   ]
  },
  {
   "cell_type": "code",
   "execution_count": 8,
   "metadata": {},
   "outputs": [
    {
     "name": "stdout",
     "output_type": "stream",
     "text": [
      "[07-18 11:33:32][INFO] \n",
      "[[ 1.  2. -1. -1.  4.]\n",
      " [ 0. -1.  0. -1. -7.]\n",
      " [ 0. -1.  2.  1. -7.]\n",
      " [ 0.  2.  0.  4.  0.]]\n",
      "[07-18 11:33:32][INFO] \n",
      "[[  1.   2.  -1.  -1.   4.]\n",
      " [  0.  -1.   0.  -1.  -7.]\n",
      " [  0.   0.   2.   2.   0.]\n",
      " [  0.   0.   0.   2. -14.]]\n",
      "[07-18 11:33:32][INFO] \n",
      "[[  1.   2.  -1.  -1.   4.]\n",
      " [  0.  -1.   0.  -1.  -7.]\n",
      " [  0.   0.   2.   2.   0.]\n",
      " [  0.   0.   0.   2. -14.]]\n"
     ]
    },
    {
     "data": {
      "text/plain": [
       "array([-24.,  14.,   7.,  -7.])"
      ]
     },
     "execution_count": 8,
     "metadata": {},
     "output_type": "execute_result"
    }
   ],
   "source": [
    "eliminacion_gaussiana(\n",
    "    [\n",
    "        [1.0, 2.0, -1.0, -1.0, 4.0],\n",
    "        [2.0, 3.0, -2.0, -3.0, 1.0],\n",
    "        [1.0, 1.0, 1.0, 0.0, -3.0],\n",
    "        [1.0, 4.0, -1.0, 3.0, 4.0],\n",
    "    ]\n",
    ")"
   ]
  },
  {
   "cell_type": "markdown",
   "metadata": {},
   "source": [
    "# Ejemplo 2"
   ]
  },
  {
   "cell_type": "code",
   "execution_count": 9,
   "metadata": {},
   "outputs": [
    {
     "name": "stdout",
     "output_type": "stream",
     "text": [
      "[07-18 11:33:32][INFO] \n",
      "[[  1   1   0   3   4]\n",
      " [  0  -1  -1  -5  -7]\n",
      " [  0  -4  -1  -7 -15]\n",
      " [  0   3   3   2   8]]\n",
      "[07-18 11:33:32][INFO] \n",
      "[[  1   1   0   3   4]\n",
      " [  0  -1  -1  -5  -7]\n",
      " [  0   0   3  13  13]\n",
      " [  0   0   0 -13 -13]]\n",
      "[07-18 11:33:32][INFO] \n",
      "[[  1   1   0   3   4]\n",
      " [  0  -1  -1  -5  -7]\n",
      " [  0   0   3  13  13]\n",
      " [  0   0   0 -13 -13]]\n"
     ]
    },
    {
     "name": "stdout",
     "output_type": "stream",
     "text": [
      "[-1.  2.  0.  1.]\n"
     ]
    }
   ],
   "source": [
    "%autoreload 2\n",
    "from src import separar_m_aumentada\n",
    "\n",
    "Ab = [[1, 1, 0, 3, 4], [2, 1, -1, 1, 1], [3, -1, -1, 2, -3], [-1, 2, 3, -1, 4]]\n",
    "sol = eliminacion_gaussiana(Ab)\n",
    "print(sol)\n"
   ]
  },
  {
   "cell_type": "code",
   "execution_count": 10,
   "metadata": {},
   "outputs": [
    {
     "name": "stdout",
     "output_type": "stream",
     "text": [
      "[07-18 11:33:32][INFO] \n",
      "[[ 1.  1.  0.  3.]\n",
      " [ 0. -1. -1. -5.]\n",
      " [ 0. -4. -1. -7.]\n",
      " [ 0.  3.  3.  2.]]\n",
      "[07-18 11:33:32][INFO] \n",
      "[[  1.   1.   0.   3.]\n",
      " [  0.  -1.  -1.  -5.]\n",
      " [  0.   0.   3.  13.]\n",
      " [  0.   0.   0. -13.]]\n",
      "[07-18 11:33:32][INFO] \n",
      "[[  1.   1.   0.   3.]\n",
      " [  0.  -1.  -1.  -5.]\n",
      " [  0.   0.   3.  13.]\n",
      " [  0.   0.   0. -13.]]\n",
      "[07-18 11:33:32][INFO] \n",
      "[[  1.   1.   0.   3.]\n",
      " [  0.  -1.  -1.  -5.]\n",
      " [  0.   0.   3.  13.]\n",
      " [  0.   0.   0. -13.]]\n",
      "[[ 1.  0.  0.  0.]\n",
      " [ 2.  1.  0.  0.]\n",
      " [ 3.  4.  1.  0.]\n",
      " [-1. -3.  0.  1.]]\n",
      "[[  1.   1.   0.   3.]\n",
      " [  0.  -1.  -1.  -5.]\n",
      " [  0.   0.   3.  13.]\n",
      " [  0.   0.   0. -13.]]\n"
     ]
    }
   ],
   "source": [
    "A, b = separar_m_aumentada(Ab)\n",
    "L, U = descomposicion_LU(A)\n",
    "print(L)\n",
    "print(U)"
   ]
  },
  {
   "cell_type": "code",
   "execution_count": 11,
   "metadata": {},
   "outputs": [
    {
     "name": "stdout",
     "output_type": "stream",
     "text": [
      "[07-18 11:33:32][INFO] Sustitución hacia adelante\n",
      "[07-18 11:33:32][INFO] y = \n",
      "[[  4.]\n",
      " [ -7.]\n",
      " [ 13.]\n",
      " [-13.]]\n",
      "[07-18 11:33:32][INFO] Sustitución hacia atrás\n",
      "[07-18 11:33:32][INFO] i = 2\n",
      "[07-18 11:33:32][INFO] suma = [13.]\n",
      "[07-18 11:33:32][INFO] U[i, i] = 3.0\n",
      "[07-18 11:33:32][INFO] y[i] = [13.]\n",
      "[07-18 11:33:32][INFO] i = 1\n",
      "[07-18 11:33:32][INFO] suma = [-5.]\n",
      "[07-18 11:33:32][INFO] U[i, i] = -1.0\n",
      "[07-18 11:33:32][INFO] y[i] = [-7.]\n",
      "[07-18 11:33:32][INFO] i = 0\n",
      "[07-18 11:33:32][INFO] suma = [5.]\n",
      "[07-18 11:33:32][INFO] U[i, i] = 1.0\n",
      "[07-18 11:33:32][INFO] y[i] = [4.]\n"
     ]
    },
    {
     "data": {
      "text/plain": [
       "array([[-1.],\n",
       "       [ 2.],\n",
       "       [ 0.],\n",
       "       [ 1.]])"
      ]
     },
     "execution_count": 11,
     "metadata": {},
     "output_type": "execute_result"
    }
   ],
   "source": [
    "%autoreload 2\n",
    "from src import resolver_LU\n",
    "s2 = resolver_LU(L, U, b)\n",
    "s2"
   ]
  }
 ],
 "metadata": {
  "kernelspec": {
   "display_name": "Python 3",
   "language": "python",
   "name": "python3"
  },
  "language_info": {
   "codemirror_mode": {
    "name": "ipython",
    "version": 3
   },
   "file_extension": ".py",
   "mimetype": "text/x-python",
   "name": "python",
   "nbconvert_exporter": "python",
   "pygments_lexer": "ipython3",
   "version": "3.10.11"
  }
 },
 "nbformat": 4,
 "nbformat_minor": 2
}
