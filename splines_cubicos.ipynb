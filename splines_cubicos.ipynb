{
 "cells": [
  {
   "cell_type": "code",
   "execution_count": 89,
   "metadata": {},
   "outputs": [],
   "source": [
    "import sympy as sym\n",
    "from IPython.display import display\n",
    "\n",
    "\n",
    "# ###################################################################\n",
    "def cubic_spline(xs: list[float], ys: list[float]) -> list[sym.Symbol]:\n",
    "    \"\"\"\n",
    "    Cubic spline interpolation ``S``. Every two points are interpolated by a cubic polynomial\n",
    "    ``S_j`` of the form ``S_j(x) = a_j + b_j(x - x_j) + c_j(x - x_j)^2 + d_j(x - x_j)^3.``\n",
    "\n",
    "    xs must be different  but not necessarily ordered nor equally spaced.\n",
    "\n",
    "    ## Parameters\n",
    "    - xs, ys: points to be interpolated\n",
    "\n",
    "    ## Return\n",
    "    - List of symbolic expressions for the cubic spline interpolation.\n",
    "    \"\"\"\n",
    "\n",
    "    points = sorted(zip(xs, ys), key=lambda x: x[0])  # sort points by x\n",
    "\n",
    "    xs = [x for x, _ in points]\n",
    "    ys = [y for _, y in points]\n",
    "\n",
    "    n = len(points) - 1  # number of splines\n",
    "\n",
    "    h = [xs[i + 1] - xs[i] for i in range(n)]  # distances between  contiguous xs\n",
    "\n",
    "    alpha = [0] * n\n",
    "    for i in range(1, n):\n",
    "        alpha[i] = 3 / h[i] * (ys[i + 1] - ys[i]) - 3 / h[i - 1] * (ys[i] - ys[i - 1])\n",
    "\n",
    "    l = [1]\n",
    "    u = [0]\n",
    "    z = [0]\n",
    "\n",
    "    for i in range(1, n):\n",
    "        l += [2 * (xs[i + 1] - xs[i - 1]) - h[i - 1] * u[i - 1]]\n",
    "        u += [h[i] / l[i]]\n",
    "        z += [(alpha[i] - h[i - 1] * z[i - 1]) / l[i]]\n",
    "\n",
    "    l.append(1)\n",
    "    z.append(0)\n",
    "    c = [0] * (n + 1)\n",
    "\n",
    "    x = sym.Symbol(\"x\")\n",
    "    splines = []\n",
    "    for j in range(n - 1, -1, -1):\n",
    "        c[j] = z[j] - u[j] * c[j + 1]\n",
    "        b = (ys[j + 1] - ys[j]) / h[j] - h[j] * (c[j + 1] + 2 * c[j]) / 3\n",
    "        d = (c[j + 1] - c[j]) / (3 * h[j])\n",
    "        a = ys[j]\n",
    "        print(j, a, b, c[j], d)\n",
    "        S = a + b * (x - xs[j]) + c[j] * (x - xs[j]) ** 2 + d * (x - xs[j]) ** 3\n",
    "\n",
    "        splines.append(S)\n",
    "    splines.reverse()\n",
    "    return splines"
   ]
  },
  {
   "cell_type": "code",
   "execution_count": 90,
   "metadata": {},
   "outputs": [],
   "source": [
    "import sympy as sym\n",
    "from IPython.display import display\n",
    "\n",
    "\n",
    "# ###################################################################\n",
    "def cubic_spline_clamped(\n",
    "    xs: list[float], ys: list[float], d0: float, dn: float\n",
    ") -> list[sym.Symbol]:\n",
    "    \"\"\"\n",
    "    Cubic spline interpolation ``S``. Every two points are interpolated by a cubic polynomial\n",
    "    ``S_j`` of the form ``S_j(x) = a_j + b_j(x - x_j) + c_j(x - x_j)^2 + d_j(x - x_j)^3.``\n",
    "\n",
    "    xs must be different  but not necessarily ordered nor equally spaced.\n",
    "\n",
    "    ## Parameters\n",
    "    - xs, ys: points to be interpolated\n",
    "    - d0, dn: derivatives at the first and last points\n",
    "\n",
    "    ## Return\n",
    "    - List of symbolic expressions for the cubic spline interpolation.\n",
    "    \"\"\"\n",
    "\n",
    "    points = sorted(zip(xs, ys), key=lambda x: x[0])  # sort points by x\n",
    "    xs = [x for x, _ in points]\n",
    "    ys = [y for _, y in points]\n",
    "    n = len(points) - 1  # number of splines\n",
    "    h = [xs[i + 1] - xs[i] for i in range(n)]  # distances between  contiguous xs\n",
    "\n",
    "    alpha = [0] * (n + 1)  # prealloc\n",
    "    alpha[0] = 3 / h[0] * (ys[1] - ys[0]) - 3 * d0\n",
    "    alpha[-1] = 3 * dn - 3 / h[n - 1] * (ys[n] - ys[n - 1])\n",
    "\n",
    "    for i in range(1, n):\n",
    "        alpha[i] = 3 / h[i] * (ys[i + 1] - ys[i]) - 3 / h[i - 1] * (ys[i] - ys[i - 1])\n",
    "\n",
    "    l = [2 * h[0]]\n",
    "    u = [0.5]\n",
    "    z = [alpha[0] / l[0]]\n",
    "\n",
    "    for i in range(1, n):\n",
    "        l += [2 * (xs[i + 1] - xs[i - 1]) - h[i - 1] * u[i - 1]]\n",
    "        u += [h[i] / l[i]]\n",
    "        z += [(alpha[i] - h[i - 1] * z[i - 1]) / l[i]]\n",
    "\n",
    "    l.append(h[n - 1] * (2 - u[n - 1]))\n",
    "    z.append((alpha[n] - h[n - 1] * z[n - 1]) / l[n])\n",
    "    c = [0] * (n + 1)  # prealloc\n",
    "    c[-1] = z[-1]\n",
    "\n",
    "    x = sym.Symbol(\"x\")\n",
    "    splines = []\n",
    "    for j in range(n - 1, -1, -1):\n",
    "        c[j] = z[j] - u[j] * c[j + 1]\n",
    "        b = (ys[j + 1] - ys[j]) / h[j] - h[j] * (c[j + 1] + 2 * c[j]) / 3\n",
    "        d = (c[j + 1] - c[j]) / (3 * h[j])\n",
    "        a = ys[j]\n",
    "        print(j, a, b, c[j], d)\n",
    "        S = a + b * (x - xs[j]) + c[j] * (x - xs[j]) ** 2 + d * (x - xs[j]) ** 3\n",
    "\n",
    "        splines.append(S)\n",
    "    splines.reverse()\n",
    "    return splines"
   ]
  },
  {
   "cell_type": "code",
   "execution_count": 121,
   "metadata": {},
   "outputs": [
    {
     "name": "stdout",
     "output_type": "stream",
     "text": [
      "0 1 1.0 -0.5 0.25\n"
     ]
    },
    {
     "data": {
      "text/latex": [
       "$\\displaystyle 1.0 x + 0.25 \\left(x + 1\\right)^{3} - 0.5 \\left(x + 1\\right)^{2} + 2.0$"
      ],
      "text/plain": [
       "1.0*x + 0.25*(x + 1)**3 - 0.5*(x + 1)**2 + 2.0"
      ]
     },
     "metadata": {},
     "output_type": "display_data"
    },
    {
     "name": "stdout",
     "output_type": "stream",
     "text": [
      "______\n"
     ]
    },
    {
     "data": {
      "text/latex": [
       "$\\displaystyle 0.25 x^{3} + 0.25 x^{2} + 0.75 x + 1.75$"
      ],
      "text/plain": [
       "0.25*x**3 + 0.25*x**2 + 0.75*x + 1.75"
      ]
     },
     "metadata": {},
     "output_type": "display_data"
    }
   ],
   "source": [
    "xs = [\n",
    "    -1,\n",
    "    1,\n",
    "]\n",
    "ys = [\n",
    "    1,\n",
    "    3,\n",
    "]\n",
    "\n",
    "ss = cubic_spline_clamped(xs=xs, ys=ys, d0=1, dn=2)\n",
    "_ = [display(s) for s in ss]\n",
    "print(\"______\")\n",
    "_ = [display(s.expand()) for s in ss]"
   ]
  },
  {
   "cell_type": "code",
   "execution_count": 125,
   "metadata": {},
   "outputs": [
    {
     "data": {
      "text/plain": [
       "array([1., 3.])"
      ]
     },
     "execution_count": 125,
     "metadata": {},
     "output_type": "execute_result"
    }
   ],
   "source": [
    "from scipy.interpolate import CubicSpline\n",
    "\n",
    "xs = [-1, 1]\n",
    "ys = [1, 3]\n",
    "s = CubicSpline(xs, ys, bc_type=((1, 1), (2, 2)))\n",
    "import numpy as np\n",
    "\n",
    "s([-1, 1])"
   ]
  },
  {
   "cell_type": "code",
   "execution_count": 92,
   "metadata": {},
   "outputs": [
    {
     "name": "stdout",
     "output_type": "stream",
     "text": [
      "1 3 1.5 0.75 -0.25\n",
      "0 2 0.75 0.0 0.25\n"
     ]
    },
    {
     "data": {
      "text/latex": [
       "$\\displaystyle 0.75 x + 0.25 \\left(x - 1\\right)^{3} + 1.25$"
      ],
      "text/plain": [
       "0.75*x + 0.25*(x - 1)**3 + 1.25"
      ]
     },
     "metadata": {},
     "output_type": "display_data"
    },
    {
     "data": {
      "text/latex": [
       "$\\displaystyle 1.5 x - 0.25 \\left(x - 2\\right)^{3} + 0.75 \\left(x - 2\\right)^{2}$"
      ],
      "text/plain": [
       "1.5*x - 0.25*(x - 2)**3 + 0.75*(x - 2)**2"
      ]
     },
     "metadata": {},
     "output_type": "display_data"
    }
   ],
   "source": [
    "# Libro\n",
    "xs = [1, 2, 3]\n",
    "\n",
    "\n",
    "ys = [2, 3, 5]\n",
    "\n",
    "\n",
    "splines = cubic_spline(xs=xs, ys=ys)\n",
    "\n",
    "\n",
    "_ = [display(s) for s in splines]"
   ]
  },
  {
   "cell_type": "code",
   "execution_count": 93,
   "metadata": {},
   "outputs": [
    {
     "name": "stdout",
     "output_type": "stream",
     "text": [
      "1 -4 4.0 4.5 -1.5\n",
      "0 -5 -0.5 0.0 1.5\n"
     ]
    },
    {
     "data": {
      "text/latex": [
       "$\\displaystyle 1.5 x^{3} - 0.5 x - 5$"
      ],
      "text/plain": [
       "1.5*x**3 - 0.5*x - 5"
      ]
     },
     "metadata": {},
     "output_type": "display_data"
    },
    {
     "data": {
      "text/latex": [
       "$\\displaystyle 4.0 x - 1.5 \\left(x - 1\\right)^{3} + 4.5 \\left(x - 1\\right)^{2} - 8.0$"
      ],
      "text/plain": [
       "4.0*x - 1.5*(x - 1)**3 + 4.5*(x - 1)**2 - 8.0"
      ]
     },
     "metadata": {},
     "output_type": "display_data"
    },
    {
     "name": "stdout",
     "output_type": "stream",
     "text": [
      "______\n"
     ]
    },
    {
     "data": {
      "text/latex": [
       "$\\displaystyle 1.5 x^{3} - 0.5 x - 5$"
      ],
      "text/plain": [
       "1.5*x**3 - 0.5*x - 5"
      ]
     },
     "metadata": {},
     "output_type": "display_data"
    },
    {
     "data": {
      "text/latex": [
       "$\\displaystyle - 1.5 x^{3} + 9.0 x^{2} - 9.5 x - 2.0$"
      ],
      "text/plain": [
       "-1.5*x**3 + 9.0*x**2 - 9.5*x - 2.0"
      ]
     },
     "metadata": {},
     "output_type": "display_data"
    }
   ],
   "source": [
    "# ejercicio 0\n",
    "xs = [0, 1, 2]\n",
    "\n",
    "ys = [-5, -4, 3]\n",
    "\n",
    "\n",
    "splines = cubic_spline(xs=xs, ys=ys)\n",
    "\n",
    "_ = [display(s) for s in splines]\n",
    "\n",
    "print(\"______\")\n",
    "\n",
    "_ = [display(s.expand()) for s in splines]"
   ]
  },
  {
   "cell_type": "code",
   "execution_count": 94,
   "metadata": {},
   "outputs": [
    {
     "name": "stdout",
     "output_type": "stream",
     "text": [
      "1 -4 5.249999999999999 9.5 -7.75\n",
      "0 -5 2.0 -6.25 5.25\n"
     ]
    },
    {
     "data": {
      "text/latex": [
       "$\\displaystyle 5.25 x^{3} - 6.25 x^{2} + 2.0 x - 5$"
      ],
      "text/plain": [
       "5.25*x**3 - 6.25*x**2 + 2.0*x - 5"
      ]
     },
     "metadata": {},
     "output_type": "display_data"
    },
    {
     "data": {
      "text/latex": [
       "$\\displaystyle 5.25 x - 7.75 \\left(x - 1\\right)^{3} + 9.5 \\left(x - 1\\right)^{2} - 9.25$"
      ],
      "text/plain": [
       "5.25*x - 7.75*(x - 1)**3 + 9.5*(x - 1)**2 - 9.25"
      ]
     },
     "metadata": {},
     "output_type": "display_data"
    },
    {
     "name": "stdout",
     "output_type": "stream",
     "text": [
      "______\n"
     ]
    },
    {
     "data": {
      "text/latex": [
       "$\\displaystyle 5.25 x^{3} - 6.25 x^{2} + 2.0 x - 5$"
      ],
      "text/plain": [
       "5.25*x**3 - 6.25*x**2 + 2.0*x - 5"
      ]
     },
     "metadata": {},
     "output_type": "display_data"
    },
    {
     "data": {
      "text/latex": [
       "$\\displaystyle - 7.75 x^{3} + 32.75 x^{2} - 37.0 x + 8.0$"
      ],
      "text/plain": [
       "-7.75*x**3 + 32.75*x**2 - 37.0*x + 8.0"
      ]
     },
     "metadata": {},
     "output_type": "display_data"
    }
   ],
   "source": [
    "# ejercicio 0 clamped\n",
    "xs = [0, 1, 2]\n",
    "\n",
    "ys = [-5, -4, 3]\n",
    "\n",
    "d0 = 1\n",
    "dn = -1\n",
    "splines = cubic_spline_clamped(xs=xs, ys=ys, d0=2, dn=1)\n",
    "\n",
    "\n",
    "_ = [display(s) for s in splines]\n",
    "\n",
    "print(\"______\")\n",
    "\n",
    "_ = [display(s.expand()) for s in splines]"
   ]
  },
  {
   "cell_type": "code",
   "execution_count": 96,
   "metadata": {},
   "outputs": [
    {
     "name": "stdout",
     "output_type": "stream",
     "text": [
      "1 5 1.0 -4.5 1.5\n",
      "0 1 5.5 0.0 -1.5\n"
     ]
    },
    {
     "data": {
      "text/latex": [
       "$\\displaystyle - 1.5 x^{3} + 5.5 x + 1$"
      ],
      "text/plain": [
       "-1.5*x**3 + 5.5*x + 1"
      ]
     },
     "metadata": {},
     "output_type": "display_data"
    },
    {
     "data": {
      "text/latex": [
       "$\\displaystyle 1.0 x + 1.5 \\left(x - 1\\right)^{3} - 4.5 \\left(x - 1\\right)^{2} + 4.0$"
      ],
      "text/plain": [
       "1.0*x + 1.5*(x - 1)**3 - 4.5*(x - 1)**2 + 4.0"
      ]
     },
     "metadata": {},
     "output_type": "display_data"
    }
   ],
   "source": [
    "xs = [0, 1, 2]\n",
    "ys = [1, 5, 3]\n",
    "\n",
    "splines = cubic_spline(xs=xs, ys=ys)\n",
    "_ = [display(s) for s in splines]\n",
    "# print(\"______\")\n",
    "# _ = [display(s.expand()) for s in splines]"
   ]
  },
  {
   "cell_type": "code",
   "execution_count": 97,
   "metadata": {},
   "outputs": [
    {
     "name": "stdout",
     "output_type": "stream",
     "text": [
      "2 5 1.0 -6.0 2.0\n",
      "1 1 4.0 3.0 -3.0\n",
      "0 -1 1.0 0.0 1.0\n"
     ]
    },
    {
     "data": {
      "text/latex": [
       "$\\displaystyle 1.0 x^{3} + 1.0 x - 1$"
      ],
      "text/plain": [
       "1.0*x**3 + 1.0*x - 1"
      ]
     },
     "metadata": {},
     "output_type": "display_data"
    },
    {
     "data": {
      "text/latex": [
       "$\\displaystyle 4.0 x - 3.0 \\left(x - 1\\right)^{3} + 3.0 \\left(x - 1\\right)^{2} - 3.0$"
      ],
      "text/plain": [
       "4.0*x - 3.0*(x - 1)**3 + 3.0*(x - 1)**2 - 3.0"
      ]
     },
     "metadata": {},
     "output_type": "display_data"
    },
    {
     "data": {
      "text/latex": [
       "$\\displaystyle 1.0 x + 2.0 \\left(x - 2\\right)^{3} - 6.0 \\left(x - 2\\right)^{2} + 3.0$"
      ],
      "text/plain": [
       "1.0*x + 2.0*(x - 2)**3 - 6.0*(x - 2)**2 + 3.0"
      ]
     },
     "metadata": {},
     "output_type": "display_data"
    },
    {
     "name": "stdout",
     "output_type": "stream",
     "text": [
      "______\n"
     ]
    },
    {
     "data": {
      "text/latex": [
       "$\\displaystyle 1.0 x^{3} + 1.0 x - 1$"
      ],
      "text/plain": [
       "1.0*x**3 + 1.0*x - 1"
      ]
     },
     "metadata": {},
     "output_type": "display_data"
    },
    {
     "data": {
      "text/latex": [
       "$\\displaystyle - 3.0 x^{3} + 12.0 x^{2} - 11.0 x + 3.0$"
      ],
      "text/plain": [
       "-3.0*x**3 + 12.0*x**2 - 11.0*x + 3.0"
      ]
     },
     "metadata": {},
     "output_type": "display_data"
    },
    {
     "data": {
      "text/latex": [
       "$\\displaystyle 2.0 x^{3} - 18.0 x^{2} + 49.0 x - 37.0$"
      ],
      "text/plain": [
       "2.0*x**3 - 18.0*x**2 + 49.0*x - 37.0"
      ]
     },
     "metadata": {},
     "output_type": "display_data"
    }
   ],
   "source": [
    "# xs = [-2, -1, 0, 1, 2]\n",
    "# ys = [3, 5, 1, -2, 1]\n",
    "\n",
    "xs = [1, 2, 3, 4]\n",
    "ys = [\n",
    "    1,\n",
    "    5,\n",
    "    11,\n",
    "    8,\n",
    "]\n",
    "\n",
    "xs = [0, 1, 2, 3]\n",
    "ys = [\n",
    "    -1,\n",
    "    1,\n",
    "    5,\n",
    "    2,\n",
    "]\n",
    "# 14,11, 8, 5, 2\n",
    "\n",
    "ss = cubic_spline(xs=xs, ys=ys)\n",
    "_ = [display(s) for s in ss]\n",
    "print(\"______\")\n",
    "_ = [display(s.expand()) for s in ss]"
   ]
  },
  {
   "cell_type": "code",
   "execution_count": 98,
   "metadata": {},
   "outputs": [
    {
     "name": "stdout",
     "output_type": "stream",
     "text": [
      "0 1 6.0 0 0.0\n"
     ]
    },
    {
     "data": {
      "text/latex": [
       "$\\displaystyle 6.0 x - 5.0$"
      ],
      "text/plain": [
       "6.0*x - 5.0"
      ]
     },
     "metadata": {},
     "output_type": "display_data"
    },
    {
     "name": "stdout",
     "output_type": "stream",
     "text": [
      "______\n"
     ]
    },
    {
     "data": {
      "text/latex": [
       "$\\displaystyle 6.0 x - 5.0$"
      ],
      "text/plain": [
       "6.0*x - 5.0"
      ]
     },
     "metadata": {},
     "output_type": "display_data"
    }
   ],
   "source": [
    "xs = [\n",
    "    1,\n",
    "    2,\n",
    "]\n",
    "ys = [\n",
    "    1,\n",
    "    7,\n",
    "]\n",
    "\n",
    "ss = cubic_spline(xs=xs, ys=ys)\n",
    "_ = [display(s) for s in ss]\n",
    "print(\"______\")\n",
    "_ = [display(s.expand()) for s in ss]"
   ]
  },
  {
   "cell_type": "code",
   "execution_count": 99,
   "metadata": {},
   "outputs": [
    {
     "name": "stdout",
     "output_type": "stream",
     "text": [
      "4 6.9 -0.9942569162090895 0.14688813572257914 -0.0035224972595342715\n",
      "3 7 -0.9967973540095628 -0.12148375771784821 0.894572978134761\n",
      "2 10 -0.2780018346205937 0.06619179468792752 -0.004812193651430146\n",
      "1 15 -0.5149368452341313 -0.03986568239753447 0.003928054706868962\n",
      "0 17 0.04318270833135135 0.0 -0.0009491829142270112\n",
      "4 6.9 -0.9942569162090895 0.14688813572257914 -0.0035224972595342715\n",
      "3 7 -0.9967973540095628 -0.12148375771784821 0.894572978134761\n",
      "2 10 -0.2780018346205937 0.06619179468792752 -0.004812193651430146\n",
      "1 15 -0.5149368452341313 -0.03986568239753447 0.003928054706868962\n",
      "0 17 0.04318270833135135 0.0 -0.0009491829142270112\n"
     ]
    },
    {
     "data": {
      "text/latex": [
       "$\\displaystyle 0.0431827083313513 x - 0.000949182914227011 \\left(x + 30\\right)^{3} + 18.2954812499405$"
      ],
      "text/plain": [
       "0.0431827083313513*x - 0.000949182914227011*(x + 30)**3 + 18.2954812499405"
      ]
     },
     "metadata": {},
     "output_type": "display_data"
    },
    {
     "data": {
      "text/latex": [
       "$\\displaystyle - 0.514936845234131 x + 0.00392805470686896 \\left(x + 16\\right)^{3} - 0.0398656823975345 \\left(x + 16\\right)^{2} + 6.7610104762539$"
      ],
      "text/plain": [
       "-0.514936845234131*x + 0.00392805470686896*(x + 16)**3 - 0.0398656823975345*(x + 16)**2 + 6.7610104762539"
      ]
     },
     "metadata": {},
     "output_type": "display_data"
    },
    {
     "data": {
      "text/latex": [
       "$\\displaystyle - 0.278001834620594 x - 0.00481219365143015 \\left(x + 7\\right)^{3} + 0.0661917946879275 \\left(x + 7\\right)^{2} + 8.05398715765584$"
      ],
      "text/plain": [
       "-0.278001834620594*x - 0.00481219365143015*(x + 7)**3 + 0.0661917946879275*(x + 7)**2 + 8.05398715765584"
      ]
     },
     "metadata": {},
     "output_type": "display_data"
    },
    {
     "data": {
      "text/latex": [
       "$\\displaystyle - 0.996797354009563 x + 0.894572978134761 \\left(x - 6\\right)^{3} - 0.121483757717848 \\left(x - 6\\right)^{2} + 12.9807841240574$"
      ],
      "text/plain": [
       "-0.996797354009563*x + 0.894572978134761*(x - 6)**3 - 0.121483757717848*(x - 6)**2 + 12.9807841240574"
      ]
     },
     "metadata": {},
     "output_type": "display_data"
    },
    {
     "data": {
      "text/latex": [
       "$\\displaystyle - 0.99425691620909 x - 0.799539950466348 \\left(0.163934426229508 x - 1\\right)^{3} + 5.46570753023717 \\left(0.163934426229508 x - 1\\right)^{2} + 12.9649671888754$"
      ],
      "text/plain": [
       "-0.99425691620909*x - 0.799539950466348*(0.163934426229508*x - 1)**3 + 5.46570753023717*(0.163934426229508*x - 1)**2 + 12.9649671888754"
      ]
     },
     "metadata": {},
     "output_type": "display_data"
    }
   ],
   "source": [
    "xs = [-30, -16, -7, 6, 6.1, 20]\n",
    "ys = [17, 15, 10, 7, 6.9, 12]\n",
    "cubic_spline(xs=xs, ys=ys)\n",
    "_ = [display(s) for s in cubic_spline(xs=xs, ys=ys)]"
   ]
  },
  {
   "cell_type": "code",
   "execution_count": 100,
   "metadata": {},
   "outputs": [
    {
     "name": "stdout",
     "output_type": "stream",
     "text": [
      "2 11 2.0666666666666664 -7.6 2.533333333333333\n",
      "1 5 6.266666666666667 3.4 -3.6666666666666665\n",
      "0 1 2.8666666666666667 0.0 1.1333333333333333\n"
     ]
    },
    {
     "data": {
      "text/latex": [
       "$\\displaystyle 2.86666666666667 x + 1.13333333333333 \\left(x - 1\\right)^{3} - 1.86666666666667$"
      ],
      "text/plain": [
       "2.86666666666667*x + 1.13333333333333*(x - 1)**3 - 1.86666666666667"
      ]
     },
     "metadata": {},
     "output_type": "display_data"
    },
    {
     "data": {
      "text/latex": [
       "$\\displaystyle 6.26666666666667 x - 3.66666666666667 \\left(x - 2\\right)^{3} + 3.4 \\left(x - 2\\right)^{2} - 7.53333333333333$"
      ],
      "text/plain": [
       "6.26666666666667*x - 3.66666666666667*(x - 2)**3 + 3.4*(x - 2)**2 - 7.53333333333333"
      ]
     },
     "metadata": {},
     "output_type": "display_data"
    },
    {
     "data": {
      "text/latex": [
       "$\\displaystyle 2.06666666666667 x + 2.53333333333333 \\left(x - 3\\right)^{3} - 7.6 \\left(x - 3\\right)^{2} + 4.8$"
      ],
      "text/plain": [
       "2.06666666666667*x + 2.53333333333333*(x - 3)**3 - 7.6*(x - 3)**2 + 4.8"
      ]
     },
     "metadata": {},
     "output_type": "display_data"
    }
   ],
   "source": [
    "xs = [1, 2, 3, 4]\n",
    "ys = [1, 5, 11, 8]\n",
    "\n",
    "splines = cubic_spline(xs=xs, ys=ys)\n",
    "_ = [display(s) for s in splines]"
   ]
  },
  {
   "cell_type": "code",
   "execution_count": 120,
   "metadata": {},
   "outputs": [
    {
     "data": {
      "text/latex": [
       "$\\displaystyle 11.08125$"
      ],
      "text/plain": [
       "11.0812500000000"
      ]
     },
     "execution_count": 120,
     "metadata": {},
     "output_type": "execute_result"
    }
   ],
   "source": [
    "splines[2].subs(\"x\", 3.25)"
   ]
  },
  {
   "cell_type": "code",
   "execution_count": 117,
   "metadata": {},
   "outputs": [
    {
     "data": {
      "text/plain": [
       "array([ 1.734375,  6.721875, 11.08125 ])"
      ]
     },
     "execution_count": 117,
     "metadata": {},
     "output_type": "execute_result"
    }
   ],
   "source": [
    "from scipy.interpolate import CubicSpline\n",
    "\n",
    "xs = [1, 2, 3, 4]\n",
    "ys = [1, 5, 11, 8]\n",
    "s = CubicSpline(xs, ys, bc_type=\"natural\")\n",
    "import numpy as np\n",
    "\n",
    "s([1.25, 2.25, 3.25])"
   ]
  }
 ],
 "metadata": {
  "kernelspec": {
   "display_name": "Python 3",
   "language": "python",
   "name": "python3"
  },
  "language_info": {
   "codemirror_mode": {
    "name": "ipython",
    "version": 3
   },
   "file_extension": ".py",
   "mimetype": "text/x-python",
   "name": "python",
   "nbconvert_exporter": "python",
   "pygments_lexer": "ipython3",
   "version": "3.10.11"
  }
 },
 "nbformat": 4,
 "nbformat_minor": 2
}
