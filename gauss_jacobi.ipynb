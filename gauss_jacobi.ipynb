{
 "cells": [
  {
   "cell_type": "code",
   "execution_count": 1,
   "metadata": {},
   "outputs": [],
   "source": [
    "%load_ext autoreload"
   ]
  },
  {
   "cell_type": "code",
   "execution_count": 2,
   "metadata": {},
   "outputs": [
    {
     "name": "stdout",
     "output_type": "stream",
     "text": [
      "[08-01 11:14:23][INFO] 2024-08-01 11:14:23.149376\n",
      "[08-01 11:14:23][INFO] 2024-08-01 11:14:23.333705\n",
      "[08-01 11:14:23][INFO] \n",
      "[[  2.   3.   1.]\n",
      " [  0. -13.  -1.]]\n"
     ]
    },
    {
     "data": {
      "text/plain": [
       "array([0.38461538, 0.07692308])"
      ]
     },
     "execution_count": 2,
     "metadata": {},
     "output_type": "execute_result"
    }
   ],
   "source": [
    "%autoreload 2\n",
    "from src import eliminacion_gaussiana, matriz_aumentada\n",
    "A = [[10, 2], [2, 3]]\n",
    "b = [4,1]\n",
    "eliminacion_gaussiana(matriz_aumentada(A, b))"
   ]
  },
  {
   "cell_type": "code",
   "execution_count": 3,
   "metadata": {},
   "outputs": [
    {
     "name": "stdout",
     "output_type": "stream",
     "text": [
      "[08-01 11:14:23][INFO] i= 1 x: [[ 0.6         2.27272727 -1.1         1.875     ]]\n",
      "[08-01 11:14:23][INFO] i= 2 x: [[ 1.04727273  1.71590909 -0.80522727  0.88522727]]\n",
      "[08-01 11:14:23][INFO] i= 3 x: [[ 0.93263636  2.05330579 -1.04934091  1.13088068]]\n",
      "[08-01 11:14:23][INFO] i= 4 x: [[ 1.01519876  1.95369576 -0.96810863  0.97384272]]\n",
      "[08-01 11:14:23][INFO] i= 5 x: [[ 0.9889913   2.01141473 -1.0102859   1.02135051]]\n",
      "[08-01 11:14:23][INFO] i= 6 x: [[ 1.00319865  1.99224126 -0.99452174  0.99443374]]\n",
      "[08-01 11:14:23][INFO] i= 7 x: [[ 0.99812847  2.00230688 -1.00197223  1.00359431]]\n",
      "[08-01 11:14:23][INFO] i= 8 x: [[ 1.00062513  1.9986703  -0.99903558  0.99888839]]\n",
      "[08-01 11:14:23][INFO] i= 9 x: [[ 0.99967415  2.00044767 -1.00036916  1.00061919]]\n",
      "[08-01 11:14:23][INFO] i= 10 x: [[ 1.0001186   1.99976795 -0.99982814  0.99978598]]\n",
      "[08-01 11:14:23][INFO] i= 11 x: [[ 0.99994242  2.00008477 -1.00006833  1.0001085 ]]\n",
      "[08-01 11:14:23][INFO] i= 12 x: [[ 1.00002214  1.99995896 -0.99996916  0.99995967]]\n",
      "[08-01 11:14:23][INFO] i= 13 x: [[ 0.99998973  2.00001582 -1.00001257  1.00001924]]\n",
      "[08-01 11:14:23][INFO] i= 14 x: [[ 1.00000409  1.99999268 -0.99999444  0.9999925 ]]\n",
      "[08-01 11:14:23][INFO] i= 15 x: [[ 0.99999816  2.00000292 -1.0000023   1.00000344]]\n"
     ]
    },
    {
     "data": {
      "text/plain": [
       "array([[ 1.00000075],\n",
       "       [ 1.99999868],\n",
       "       [-0.99999899],\n",
       "       [ 0.99999862]])"
      ]
     },
     "execution_count": 3,
     "metadata": {},
     "output_type": "execute_result"
    }
   ],
   "source": [
    "%autoreload 2\n",
    "from src import gauss_jacobi\n",
    "A = [[1, 2], [2, 3]]\n",
    "b = [4,1]\n",
    "\n",
    "# ---------- \n",
    "A = [[10,-1,2,0],\n",
    "[-1,11,-1,3],\n",
    "[2,-1,10,-1],\n",
    "[0,3,-1,8],]\n",
    "b = [6,25,-11,15]\n",
    "\n",
    "gauss_jacobi(A=A, b=b, x0=[0]*4, tol=1e-5, max_iter=1000)\n"
   ]
  }
 ],
 "metadata": {
  "kernelspec": {
   "display_name": "Python 3",
   "language": "python",
   "name": "python3"
  },
  "language_info": {
   "codemirror_mode": {
    "name": "ipython",
    "version": 3
   },
   "file_extension": ".py",
   "mimetype": "text/x-python",
   "name": "python",
   "nbconvert_exporter": "python",
   "pygments_lexer": "ipython3",
   "version": "3.10.11"
  }
 },
 "nbformat": 4,
 "nbformat_minor": 2
}
