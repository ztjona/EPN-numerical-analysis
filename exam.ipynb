{
 "cells": [
  {
   "cell_type": "code",
   "execution_count": 46,
   "metadata": {},
   "outputs": [],
   "source": [
    "error = lambda p, p_approx: abs((p - p_approx) / p)"
   ]
  },
  {
   "cell_type": "code",
   "execution_count": 47,
   "metadata": {},
   "outputs": [],
   "source": [
    "import math\n",
    "\n",
    "\n",
    "def tr(num, digits):\n",
    "    if num == 0:\n",
    "        return 0\n",
    "\n",
    "    # Calculate the order of magnitude of the number\n",
    "    magnitude = int(math.floor(math.log10(abs(num))))\n",
    "\n",
    "    # Calculate the scaling factor based on the desired number of significant digits\n",
    "    scaling_factor = 10 ** (digits - magnitude - 1)\n",
    "\n",
    "    # Cut the number to the desired number of significant digits without rounding\n",
    "    cut_num = math.trunc(num * scaling_factor) / scaling_factor\n",
    "\n",
    "    return cut_num\n",
    "\n",
    "\n",
    "def rd(number, significant_digits):\n",
    "    if number == 0:\n",
    "        return 0\n",
    "\n",
    "    magnitude = math.floor(math.log10(abs(number))) + 1\n",
    "    scale = significant_digits - magnitude\n",
    "\n",
    "    return round(number, scale)\n",
    "\n",
    "\n",
    "def pls_f(a, b, digits, fn):\n",
    "    return fn(fn(a, digits) + fn(b, digits), digits)\n",
    "\n",
    "\n",
    "def mns_f(a, b, digits, fn):\n",
    "    return fn(fn(a, digits) - fn(b, digits), digits)\n",
    "\n",
    "\n",
    "def mlt_f(a, b, digits, fn):\n",
    "    return fn(fn(a, digits) * fn(b, digits), digits)\n",
    "\n",
    "\n",
    "def dvd_f(a, b, digits, fn):\n",
    "    return fn(fn(a, digits) / fn(b, digits), digits)"
   ]
  },
  {
   "cell_type": "code",
   "execution_count": 48,
   "metadata": {},
   "outputs": [
    {
     "name": "stdout",
     "output_type": "stream",
     "text": [
      "real =\t -0.011578947368421534\n",
      "x metodo 1 =  -0.00658\n",
      "error m1= 0.43172727272729633\n",
      "x met 2 = -0.010000000000000009\n",
      "error m2 = 0.1363636363636715\n"
     ]
    }
   ],
   "source": [
    "digits = 3\n",
    "fc = rd\n",
    "ml = lambda a, b: mlt_f(a, b, digits, fc)\n",
    "dv = lambda a, b: dvd_f(a, b, digits, fc)\n",
    "pl = lambda a, b: pls_f(a, b, digits, fc)\n",
    "mn = lambda a, b: mns_f(a, b, digits, fc)\n",
    "\n",
    "x0 = 1.31\n",
    "y0 = 3.24\n",
    "\n",
    "x1 = 1.93\n",
    "y1 = 4.76\n",
    "\n",
    "x_real = (x0 * y1 - x1 * y0) / (y1 - y0)\n",
    "print(\"real =\\t\", x_real)\n",
    "# Caso a\n",
    "a = ml(x0, y1)\n",
    "b = ml(x1, y0)\n",
    "c = mn(a, b)\n",
    "d = mn(y1, y0)\n",
    "x_a = dv(c, d)\n",
    "print(\"x metodo 1 = \", x_a)\n",
    "error_a = error(x_real, x_a)\n",
    "print(\"error m1=\", error_a)\n",
    "\n",
    "# Caso b\n",
    "a1 = mn(x1, x0)\n",
    "d1 = mn(y1, y0)\n",
    "c1 = ml(a1, y0)\n",
    "d1 = dv(c1, d1)\n",
    "x_b = x0 - d1\n",
    "print(\"x met 2 =\", x_b)\n",
    "error_b = error(x_real, x_b)\n",
    "print(\"error m2 =\", error_b)"
   ]
  },
  {
   "cell_type": "code",
   "execution_count": 49,
   "metadata": {},
   "outputs": [
    {
     "name": "stdout",
     "output_type": "stream",
     "text": [
      "approx 3.1455761316872426 error 0.001269\n",
      "approx 3.1416210293250346 error 9.877e-06\n"
     ]
    }
   ],
   "source": [
    "from math import pi\n",
    "\n",
    "pi = 3.14159\n",
    "atan = lambda x: x - 1 / 3 * x**3 + 1 / 5 * x**5\n",
    "\n",
    "a = 4 * (atan(1 / 2) + atan(1 / 3))\n",
    "# a = rd(a, 6)\n",
    "error_a = error(pi, a)\n",
    "error_a = rd(error_a, 4)\n",
    "print(\"approx\", a, \"error\", error_a)\n",
    "b = 16 * atan(1 / 5) - 4 * atan(1 / 239)\n",
    "# b = rd(b, 6)\n",
    "error_b = error(pi, b)\n",
    "error_b = rd(error_b, 4)\n",
    "print(\"approx\", b, \"error\", error_b)"
   ]
  },
  {
   "cell_type": "markdown",
   "metadata": {},
   "source": [
    "# Soluciones de ecuaciones\n"
   ]
  },
  {
   "cell_type": "code",
   "execution_count": 50,
   "metadata": {},
   "outputs": [],
   "source": [
    "def sign(x: float) -> int:\n",
    "    if x > 0:\n",
    "        return 1\n",
    "    elif x < 0:\n",
    "        return -1\n",
    "    else:\n",
    "        return 0"
   ]
  },
  {
   "cell_type": "code",
   "execution_count": 51,
   "metadata": {},
   "outputs": [],
   "source": [
    "from typing import Callable\n",
    "\n",
    "\n",
    "def bisection(\n",
    "    a: float, b: float, *, equation: Callable[[float], float], tol: float, N: int\n",
    ") -> tuple[float, float, float, int] | None:\n",
    "    i = 1\n",
    "\n",
    "    # Input validation\n",
    "    # Comente a continuación y vea qué sucede\n",
    "    assert a < b, \"a not lower than b, the interval is not valid.\"\n",
    "\n",
    "    # Comente a continuación y vea qué sucede\n",
    "    assert (\n",
    "        equation(a) * equation(b) < 0\n",
    "    ), \"The function does not change sign over the interval.\"\n",
    "\n",
    "    Fa = equation(a)\n",
    "    p = a  # to avoid crash in i == 0.\n",
    "    for i in range(N):\n",
    "\n",
    "        # esta alternativa es suceptible de desborde, especialmente si a y b son muy grandes\n",
    "        # p = (a + b)/2\n",
    "\n",
    "        p = a + (b - a) / 2\n",
    "        FP = equation(p)\n",
    "        if FP == 0 or (b - a) / 2 < tol:\n",
    "            return p, a, b, i\n",
    "\n",
    "        if sign(Fa) * sign(FP) > 0:\n",
    "\n",
    "            # esta alternativa podría causar también un desborde\n",
    "            # if Fa * FP > 0:\n",
    "\n",
    "            a = p\n",
    "            Fa = FP\n",
    "        else:\n",
    "            b = p\n",
    "\n",
    "    # Respuesta temporal\n",
    "    return p, a, b, i\n",
    "\n",
    "    # Es mejor usar esta opción, cuando el algoritmo no llega a una tolerancia en\n",
    "    # las iteraciones dadas.\n",
    "\n",
    "    # raise ValueError(\n",
    "    #     \"Solution not found within the given tolerance and number of iterations\"\n",
    "    # )"
   ]
  },
  {
   "cell_type": "code",
   "execution_count": 52,
   "metadata": {},
   "outputs": [
    {
     "ename": "AssertionError",
     "evalue": "The function does not change sign over the interval.",
     "output_type": "error",
     "traceback": [
      "\u001b[1;31m---------------------------------------------------------------------------\u001b[0m",
      "\u001b[1;31mAssertionError\u001b[0m                            Traceback (most recent call last)",
      "Cell \u001b[1;32mIn[52], line 3\u001b[0m\n\u001b[0;32m      1\u001b[0m \u001b[38;5;28;01mfrom\u001b[39;00m \u001b[38;5;21;01mmath\u001b[39;00m \u001b[38;5;28;01mimport\u001b[39;00m sin\n\u001b[1;32m----> 3\u001b[0m \u001b[43mbisection\u001b[49m\u001b[43m(\u001b[49m\u001b[38;5;241;43m-\u001b[39;49m\u001b[38;5;241;43m3.5\u001b[39;49m\u001b[43m,\u001b[49m\u001b[43m \u001b[49m\u001b[38;5;241;43m3\u001b[39;49m\u001b[43m,\u001b[49m\u001b[43m \u001b[49m\u001b[43mequation\u001b[49m\u001b[38;5;241;43m=\u001b[39;49m\u001b[43msin\u001b[49m\u001b[43m,\u001b[49m\u001b[43m \u001b[49m\u001b[43mtol\u001b[49m\u001b[38;5;241;43m=\u001b[39;49m\u001b[38;5;241;43m1e-6\u001b[39;49m\u001b[43m,\u001b[49m\u001b[43m \u001b[49m\u001b[43mN\u001b[49m\u001b[38;5;241;43m=\u001b[39;49m\u001b[38;5;241;43m1000\u001b[39;49m\u001b[43m)\u001b[49m\n",
      "Cell \u001b[1;32mIn[51], line 15\u001b[0m, in \u001b[0;36mbisection\u001b[1;34m(a, b, equation, tol, N)\u001b[0m\n\u001b[0;32m     11\u001b[0m \u001b[38;5;28;01massert\u001b[39;00m a \u001b[38;5;241m<\u001b[39m b, \u001b[38;5;124m\"\u001b[39m\u001b[38;5;124ma not lower than b, the interval is not valid.\u001b[39m\u001b[38;5;124m\"\u001b[39m\n\u001b[0;32m     13\u001b[0m \u001b[38;5;66;03m# Comente a continuación y vea qué sucede\u001b[39;00m\n\u001b[0;32m     14\u001b[0m \u001b[38;5;28;01massert\u001b[39;00m (\n\u001b[1;32m---> 15\u001b[0m     equation(a) \u001b[38;5;241m*\u001b[39m equation(b) \u001b[38;5;241m<\u001b[39m \u001b[38;5;241m0\u001b[39m\n\u001b[0;32m     16\u001b[0m ), \u001b[38;5;124m\"\u001b[39m\u001b[38;5;124mThe function does not change sign over the interval.\u001b[39m\u001b[38;5;124m\"\u001b[39m\n\u001b[0;32m     18\u001b[0m Fa \u001b[38;5;241m=\u001b[39m equation(a)\n\u001b[0;32m     19\u001b[0m p \u001b[38;5;241m=\u001b[39m a  \u001b[38;5;66;03m# to avoid crash in i == 0.\u001b[39;00m\n",
      "\u001b[1;31mAssertionError\u001b[0m: The function does not change sign over the interval."
     ]
    }
   ],
   "source": [
    "from math import sin\n",
    "\n",
    "bisection(-3.5, 3, equation=sin, tol=1e-6, N=1000)"
   ]
  },
  {
   "cell_type": "code",
   "execution_count": null,
   "metadata": {},
   "outputs": [
    {
     "data": {
      "text/plain": [
       "(-2.384185791015625e-07, -9.5367431640625e-07, 4.76837158203125e-07, 21)"
      ]
     },
     "execution_count": 35,
     "metadata": {},
     "output_type": "execute_result"
    }
   ],
   "source": [
    "bisection(-1, 2, equation=sin, tol=1e-6, N=1000)"
   ]
  },
  {
   "cell_type": "code",
   "execution_count": null,
   "metadata": {},
   "outputs": [
    {
     "data": {
      "text/plain": [
       "(0.0, -3.5, 3.5, 0)"
      ]
     },
     "execution_count": 34,
     "metadata": {},
     "output_type": "execute_result"
    }
   ],
   "source": [
    "bisection(-3.5, 3.5, equation=sin, tol=1e-6, N=1000)"
   ]
  },
  {
   "cell_type": "code",
   "execution_count": null,
   "metadata": {},
   "outputs": [
    {
     "data": {
      "text/plain": [
       "(-3.14159232378006, -3.141592860221863, -3.141591787338257, 23)"
      ]
     },
     "execution_count": 49,
     "metadata": {},
     "output_type": "execute_result"
    }
   ],
   "source": [
    "bisection(-5, 4, equation=sin, tol=1e-6, N=1000)"
   ]
  },
  {
   "cell_type": "markdown",
   "metadata": {},
   "source": [
    "## Método de la Secante"
   ]
  },
  {
   "cell_type": "code",
   "execution_count": 54,
   "metadata": {},
   "outputs": [],
   "source": [
    "def secant_method(f, x0, x1, tol=1e-6, max_iter=100):\n",
    "    \"\"\"\n",
    "    Secant method for finding the root of a function.\n",
    "\n",
    "    Parameters:\n",
    "    - f: The function for which to find the root.\n",
    "    - x0, x1: Initial guesses for the root.\n",
    "    - tol: Tolerance for convergence (default: 1e-6).\n",
    "    - max_iter: Maximum number of iterations (default: 100).\n",
    "\n",
    "    Returns:\n",
    "    - The approximate root of the function.\n",
    "    - The number of iterations taken.\n",
    "    \"\"\"\n",
    "\n",
    "    # Initialize variables\n",
    "    x_prev = x0\n",
    "    x_curr = x1\n",
    "    iter_count = 0\n",
    "\n",
    "    while abs(f(x_curr)) > tol and iter_count < max_iter:\n",
    "        # Calculate the next approximation using the secant method formula\n",
    "        x_next = x_curr - f(x_curr) * (x_curr - x_prev) / (f(x_curr) - f(x_prev))\n",
    "\n",
    "        # Update variables for the next iteration\n",
    "        x_prev = x_curr\n",
    "        x_curr = x_next\n",
    "        iter_count += 1\n",
    "\n",
    "    return x_curr, iter_count"
   ]
  },
  {
   "cell_type": "code",
   "execution_count": 55,
   "metadata": {},
   "outputs": [
    {
     "name": "stdout",
     "output_type": "stream",
     "text": [
      "Llamada i=1\t x=2.00\t y=-3.00\n",
      "Llamada i=2\t x=3.00\t y=2.00\n",
      "Llamada i=3\t x=2.60\t y=-1.10\n",
      "Llamada i=4\t x=2.95\t y=1.51\n",
      "Llamada i=5\t x=2.75\t y=-0.16\n",
      "Llamada i=6\t x=2.77\t y=-0.02\n",
      "Llamada i=7\t x=2.77\t y=0.00\n",
      "Llamada i=8\t x=2.77\t y=-0.00\n",
      "Llamada i=9\t x=2.77\t y=-0.00\n"
     ]
    },
    {
     "data": {
      "text/plain": [
       "2.769292354238631"
      ]
     },
     "execution_count": 55,
     "metadata": {},
     "output_type": "execute_result"
    }
   ],
   "source": [
    "from scipy.optimize import newton\n",
    "\n",
    "i = 0\n",
    "\n",
    "\n",
    "def func(x):\n",
    "    global i\n",
    "    i += 1\n",
    "    y = x**3 - 3 * x**2 + x - 1\n",
    "    print(f\"Llamada i={i}\\t x={x:.2f}\\t y={y:.2f}\")\n",
    "    return y\n",
    "\n",
    "\n",
    "newton(func, x0=2, x1=3)"
   ]
  },
  {
   "cell_type": "code",
   "execution_count": 63,
   "metadata": {},
   "outputs": [
    {
     "name": "stdout",
     "output_type": "stream",
     "text": [
      "Llamada i=1\t x=3.00\t y=2.00\n",
      "Llamada i=2\t x=3.00\t y=2.00\n",
      "Llamada i=3\t x=3.00\t y=2.00\n",
      "Llamada i=4\t x=2.00\t y=-3.00\n",
      "Llamada i=5\t x=2.60\t y=-1.10\n",
      "Llamada i=6\t x=2.60\t y=-1.10\n",
      "Llamada i=7\t x=2.60\t y=-1.10\n",
      "Llamada i=8\t x=3.00\t y=2.00\n",
      "Llamada i=9\t x=2.74\t y=-0.20\n",
      "Llamada i=10\t x=2.74\t y=-0.20\n",
      "Llamada i=11\t x=2.74\t y=-0.20\n",
      "Llamada i=12\t x=2.60\t y=-1.10\n",
      "Llamada i=13\t x=2.77\t y=0.03\n",
      "Llamada i=14\t x=2.77\t y=0.03\n",
      "Llamada i=15\t x=2.77\t y=0.03\n",
      "Llamada i=16\t x=2.74\t y=-0.20\n",
      "Llamada i=17\t x=2.77\t y=-0.00\n",
      "Llamada i=18\t x=2.77\t y=-0.00\n",
      "Llamada i=19\t x=2.77\t y=-0.00\n",
      "Llamada i=20\t x=2.77\t y=0.03\n",
      "Llamada i=21\t x=2.77\t y=-0.00\n",
      "Llamada i=22\t x=2.77\t y=-0.00\n",
      "Llamada i=23\t x=2.77\t y=-0.00\n",
      "Llamada i=24\t x=2.77\t y=-0.00\n",
      "Llamada i=25\t x=2.77\t y=0.00\n"
     ]
    },
    {
     "data": {
      "text/plain": [
       "(2.7692923542484045, 6)"
      ]
     },
     "execution_count": 63,
     "metadata": {},
     "output_type": "execute_result"
    }
   ],
   "source": [
    "i = 0\n",
    "\n",
    "\n",
    "def func(x):\n",
    "    global i\n",
    "    i += 1\n",
    "    y = x**3 - 3 * x**2 + x - 1\n",
    "    print(f\"Llamada i={i}\\t x={x:.2f}\\t y={y:.2f}\")\n",
    "    return y\n",
    "\n",
    "\n",
    "secant_method(func, x0=2, x1=3)"
   ]
  },
  {
   "cell_type": "code",
   "execution_count": 57,
   "metadata": {},
   "outputs": [
    {
     "name": "stdout",
     "output_type": "stream",
     "text": [
      "Llamada i=26\t x=2.00\t y=-3.00\n",
      "Llamada i=27\t x=2.00\t y=-3.00\n",
      "Llamada i=28\t x=2.00\t y=-3.00\n",
      "Llamada i=29\t x=3.00\t y=2.00\n",
      "Llamada i=30\t x=2.60\t y=-1.10\n",
      "Llamada i=31\t x=2.60\t y=-1.10\n",
      "Llamada i=32\t x=2.60\t y=-1.10\n",
      "Llamada i=33\t x=2.00\t y=-3.00\n",
      "Llamada i=34\t x=2.95\t y=1.51\n",
      "Llamada i=35\t x=2.95\t y=1.51\n",
      "Llamada i=36\t x=2.95\t y=1.51\n",
      "Llamada i=37\t x=2.60\t y=-1.10\n",
      "Llamada i=38\t x=2.75\t y=-0.16\n",
      "Llamada i=39\t x=2.75\t y=-0.16\n",
      "Llamada i=40\t x=2.75\t y=-0.16\n",
      "Llamada i=41\t x=2.95\t y=1.51\n",
      "Llamada i=42\t x=2.77\t y=-0.02\n",
      "Llamada i=43\t x=2.77\t y=-0.02\n",
      "Llamada i=44\t x=2.77\t y=-0.02\n",
      "Llamada i=45\t x=2.75\t y=-0.16\n",
      "Llamada i=46\t x=2.77\t y=0.00\n",
      "Llamada i=47\t x=2.77\t y=0.00\n",
      "Llamada i=48\t x=2.77\t y=0.00\n",
      "Llamada i=49\t x=2.77\t y=-0.02\n",
      "Llamada i=50\t x=2.77\t y=-0.00\n"
     ]
    },
    {
     "data": {
      "text/plain": [
       "(2.769292278557985, 6)"
      ]
     },
     "execution_count": 57,
     "metadata": {},
     "output_type": "execute_result"
    }
   ],
   "source": [
    "secant_method(func, x0=3, x1=2)"
   ]
  },
  {
   "cell_type": "markdown",
   "metadata": {},
   "source": [
    "# Programación"
   ]
  },
  {
   "cell_type": "code",
   "execution_count": 26,
   "metadata": {},
   "outputs": [],
   "source": [
    "def secant_method_scipy(f, x0, x1, tol=1e-6, max_iter=100):\n",
    "    \"\"\"\n",
    "    Secant method for finding the root of a function.\n",
    "\n",
    "    Parameters:\n",
    "    - f: The function for which to find the root.\n",
    "    - x0, x1: Initial guesses for the root.\n",
    "    - tol: Tolerance for convergence (default: 1e-6).\n",
    "    - max_iter: Maximum number of iterations (default: 100).\n",
    "\n",
    "    Returns:\n",
    "    - The approximate root of the function.\n",
    "    - The number of iterations taken.\n",
    "    \"\"\"\n",
    "\n",
    "    # Initialize variables\n",
    "    x_prev = x0\n",
    "    x_curr = x1\n",
    "    iter_count = 0\n",
    "\n",
    "    while abs(f(x_curr)) > tol and iter_count < max_iter:\n",
    "        # Calculate the next approximation using the secant method formula\n",
    "        y_curr = f(x_curr)\n",
    "        y_prev = f(x_prev)\n",
    "\n",
    "        if abs(y_prev) < abs(y_curr):\n",
    "            x_prev, x_curr = x_curr, x_prev\n",
    "            y_prev, y_curr = y_curr, y_prev\n",
    "\n",
    "        x_next = x_curr - y_curr * (x_curr - x_prev) / (y_curr - y_prev)\n",
    "\n",
    "        # Update variables for the next iteration\n",
    "        x_prev = x_curr\n",
    "        x_curr = x_next\n",
    "        iter_count += 1\n",
    "\n",
    "    return x_curr, iter_count"
   ]
  },
  {
   "cell_type": "code",
   "execution_count": 28,
   "metadata": {},
   "outputs": [
    {
     "name": "stdout",
     "output_type": "stream",
     "text": [
      "x=2.00\t y=-3.00\n",
      "x=2.00\t y=-3.00\n",
      "x=3.00\t y=2.00\n",
      "x=2.60\t y=-1.10\n",
      "x=2.60\t y=-1.10\n",
      "x=3.00\t y=2.00\n",
      "x=2.74\t y=-0.20\n",
      "x=2.74\t y=-0.20\n",
      "x=2.60\t y=-1.10\n",
      "x=2.77\t y=0.03\n",
      "x=2.77\t y=0.03\n",
      "x=2.74\t y=-0.20\n",
      "x=2.77\t y=-0.00\n",
      "x=2.77\t y=-0.00\n",
      "x=2.77\t y=0.03\n",
      "x=2.77\t y=-0.00\n",
      "x=2.77\t y=-0.00\n",
      "x=2.77\t y=-0.00\n",
      "x=2.77\t y=0.00\n"
     ]
    },
    {
     "data": {
      "text/plain": [
       "(2.7692923542484045, 6)"
      ]
     },
     "execution_count": 28,
     "metadata": {},
     "output_type": "execute_result"
    }
   ],
   "source": [
    "def func2(x):\n",
    "    y = x**3 - 3 * x**2 + x - 1\n",
    "    print(f\"x={x:.2f}\\t y={y:.2f}\")\n",
    "    return y\n",
    "\n",
    "\n",
    "secant_method_scipy(func2, x0=3, x1=2)"
   ]
  },
  {
   "cell_type": "code",
   "execution_count": 29,
   "metadata": {},
   "outputs": [
    {
     "name": "stdout",
     "output_type": "stream",
     "text": [
      "x=3.00\t y=2.00\n",
      "x=3.00\t y=2.00\n",
      "x=2.00\t y=-3.00\n",
      "x=2.60\t y=-1.10\n",
      "x=2.60\t y=-1.10\n",
      "x=3.00\t y=2.00\n",
      "x=2.74\t y=-0.20\n",
      "x=2.74\t y=-0.20\n",
      "x=2.60\t y=-1.10\n",
      "x=2.77\t y=0.03\n",
      "x=2.77\t y=0.03\n",
      "x=2.74\t y=-0.20\n",
      "x=2.77\t y=-0.00\n",
      "x=2.77\t y=-0.00\n",
      "x=2.77\t y=0.03\n",
      "x=2.77\t y=-0.00\n",
      "x=2.77\t y=-0.00\n",
      "x=2.77\t y=-0.00\n",
      "x=2.77\t y=0.00\n"
     ]
    },
    {
     "data": {
      "text/plain": [
       "(2.7692923542484045, 6)"
      ]
     },
     "execution_count": 29,
     "metadata": {},
     "output_type": "execute_result"
    }
   ],
   "source": [
    "secant_method_scipy(func2, x0=2, x1=3)"
   ]
  },
  {
   "cell_type": "code",
   "execution_count": 5,
   "metadata": {},
   "outputs": [
    {
     "name": "stdout",
     "output_type": "stream",
     "text": [
      "x=2.00\t y=-3.00\n",
      "x=3.00\t y=2.00\n",
      "x=2.60\t y=-1.10\n",
      "x=2.95\t y=1.51\n",
      "x=2.75\t y=-0.16\n",
      "x=2.77\t y=-0.02\n",
      "x=2.77\t y=0.00\n",
      "x=2.77\t y=-0.00\n",
      "x=2.77\t y=-0.00\n"
     ]
    },
    {
     "data": {
      "text/plain": [
       "(2.769292354238631,\n",
       "       converged: True\n",
       "            flag: converged\n",
       "  function_calls: 9\n",
       "      iterations: 8\n",
       "            root: 2.769292354238631\n",
       "          method: secant)"
      ]
     },
     "execution_count": 5,
     "metadata": {},
     "output_type": "execute_result"
    }
   ],
   "source": [
    "from scipy.optimize import newton\n",
    "\n",
    "newton(func2, x0=2, full_output=True, x1=3)"
   ]
  },
  {
   "cell_type": "code",
   "execution_count": 40,
   "metadata": {},
   "outputs": [],
   "source": [
    "def secant_method_opt(f, x0, x1, tol=1e-6, max_iter=100):\n",
    "    \"\"\"\n",
    "    Secant method for finding the root of a function.\n",
    "\n",
    "    Parameters:\n",
    "    - f: The function for which to find the root.\n",
    "    - x0, x1: Initial guesses for the root.\n",
    "    - tol: Tolerance for convergence (default: 1e-6).\n",
    "    - max_iter: Maximum number of iterations (default: 100).\n",
    "\n",
    "    Returns:\n",
    "    - The approximate root of the function.\n",
    "    - The number of iterations taken.\n",
    "    \"\"\"\n",
    "\n",
    "    # Initialize variables\n",
    "    x_prev = x0\n",
    "    x_curr = x1\n",
    "    iter_count = 0\n",
    "    y_prev = f(x_prev)\n",
    "    y_curr = f(x_curr)\n",
    "    while abs(y_curr) > tol and iter_count < max_iter:\n",
    "        # Calculate the next approximation using the secant method formula\n",
    "        x_next = x_curr - y_curr * (x_curr - x_prev) / (y_curr - y_prev)\n",
    "\n",
    "        # Update variables for the next iteration\n",
    "        x_prev = x_curr\n",
    "        x_curr = x_next\n",
    "        y_prev = y_curr\n",
    "        y_curr = f(x_curr)\n",
    "\n",
    "        iter_count += 1\n",
    "\n",
    "    return x_curr, iter_count"
   ]
  },
  {
   "cell_type": "code",
   "execution_count": 41,
   "metadata": {},
   "outputs": [
    {
     "name": "stdout",
     "output_type": "stream",
     "text": [
      "x=3.00\t y=2.00\n",
      "x=2.00\t y=-3.00\n",
      "x=2.60\t y=-1.10\n",
      "x=2.95\t y=1.51\n",
      "x=2.75\t y=-0.16\n",
      "x=2.77\t y=-0.02\n",
      "x=2.77\t y=0.00\n"
     ]
    },
    {
     "data": {
      "text/plain": [
       "(2.769333095055652, 5)"
      ]
     },
     "execution_count": 41,
     "metadata": {},
     "output_type": "execute_result"
    }
   ],
   "source": [
    "def func2(x):\n",
    "    y = x**3 - 3 * x**2 + x - 1\n",
    "    print(f\"x={x:.2f}\\t y={y:.2f}\")\n",
    "    return y\n",
    "\n",
    "\n",
    "secant_method_opt(func2, x0=3, x1=2, tol=1e-3)"
   ]
  },
  {
   "cell_type": "markdown",
   "metadata": {},
   "source": [
    "# Newton"
   ]
  },
  {
   "cell_type": "code",
   "execution_count": 84,
   "metadata": {},
   "outputs": [
    {
     "name": "stdout",
     "output_type": "stream",
     "text": [
      "x=1.82\t y=-3.09\n"
     ]
    },
    {
     "ename": "RuntimeError",
     "evalue": "Derivative was zero. Failed to converge after 1 iterations, value is 1.8164965809277258.",
     "output_type": "error",
     "traceback": [
      "\u001b[1;31m---------------------------------------------------------------------------\u001b[0m",
      "\u001b[1;31mRuntimeError\u001b[0m                              Traceback (most recent call last)",
      "Cell \u001b[1;32mIn[84], line 13\u001b[0m\n\u001b[0;32m      7\u001b[0m     \u001b[38;5;28;01mreturn\u001b[39;00m y\n\u001b[0;32m     10\u001b[0m \u001b[38;5;66;03m# newton(func2, x0=3, fprime=f_prime, full_output=True)\u001b[39;00m\n\u001b[0;32m     11\u001b[0m \u001b[38;5;66;03m# newton(func2, x0=1, fprime=f_prime, full_output=True)\u001b[39;00m\n\u001b[0;32m     12\u001b[0m \u001b[38;5;66;03m# newton(func2, x0=0, fprime=f_prime, full_output=True)\u001b[39;00m\n\u001b[1;32m---> 13\u001b[0m \u001b[43mnewton\u001b[49m\u001b[43m(\u001b[49m\u001b[43mfunc2\u001b[49m\u001b[43m,\u001b[49m\u001b[43m \u001b[49m\u001b[43mx0\u001b[49m\u001b[38;5;241;43m=\u001b[39;49m\u001b[38;5;241;43m1\u001b[39;49m\u001b[43m \u001b[49m\u001b[38;5;241;43m+\u001b[39;49m\u001b[43m \u001b[49m\u001b[38;5;241;43m6\u001b[39;49m\u001b[43m \u001b[49m\u001b[38;5;241;43m*\u001b[39;49m\u001b[38;5;241;43m*\u001b[39;49m\u001b[43m \u001b[49m\u001b[43m(\u001b[49m\u001b[38;5;241;43m1\u001b[39;49m\u001b[43m \u001b[49m\u001b[38;5;241;43m/\u001b[39;49m\u001b[43m \u001b[49m\u001b[38;5;241;43m2\u001b[39;49m\u001b[43m)\u001b[49m\u001b[43m \u001b[49m\u001b[38;5;241;43m/\u001b[39;49m\u001b[43m \u001b[49m\u001b[38;5;241;43m3\u001b[39;49m\u001b[43m,\u001b[49m\u001b[43m \u001b[49m\u001b[43mfprime\u001b[49m\u001b[38;5;241;43m=\u001b[39;49m\u001b[43mf_prime\u001b[49m\u001b[43m,\u001b[49m\u001b[43m \u001b[49m\u001b[43mfull_output\u001b[49m\u001b[38;5;241;43m=\u001b[39;49m\u001b[38;5;28;43;01mTrue\u001b[39;49;00m\u001b[43m)\u001b[49m\n",
      "File \u001b[1;32mc:\\Python310\\lib\\site-packages\\scipy\\optimize\\_zeros_py.py:322\u001b[0m, in \u001b[0;36mnewton\u001b[1;34m(func, x0, fprime, args, tol, maxiter, fprime2, x1, rtol, full_output, disp)\u001b[0m\n\u001b[0;32m    318\u001b[0m \u001b[38;5;28;01mif\u001b[39;00m disp:\n\u001b[0;32m    319\u001b[0m     msg \u001b[38;5;241m+\u001b[39m\u001b[38;5;241m=\u001b[39m (\n\u001b[0;32m    320\u001b[0m         \u001b[38;5;124m\"\u001b[39m\u001b[38;5;124m Failed to converge after \u001b[39m\u001b[38;5;132;01m%d\u001b[39;00m\u001b[38;5;124m iterations, value is \u001b[39m\u001b[38;5;132;01m%s\u001b[39;00m\u001b[38;5;124m.\u001b[39m\u001b[38;5;124m\"\u001b[39m\n\u001b[0;32m    321\u001b[0m         \u001b[38;5;241m%\u001b[39m (itr \u001b[38;5;241m+\u001b[39m \u001b[38;5;241m1\u001b[39m, p0))\n\u001b[1;32m--> 322\u001b[0m     \u001b[38;5;28;01mraise\u001b[39;00m \u001b[38;5;167;01mRuntimeError\u001b[39;00m(msg)\n\u001b[0;32m    323\u001b[0m warnings\u001b[38;5;241m.\u001b[39mwarn(msg, \u001b[38;5;167;01mRuntimeWarning\u001b[39;00m, stacklevel\u001b[38;5;241m=\u001b[39m\u001b[38;5;241m2\u001b[39m)\n\u001b[0;32m    324\u001b[0m \u001b[38;5;28;01mreturn\u001b[39;00m _results_select(\n\u001b[0;32m    325\u001b[0m     full_output, (p0, funcalls, itr \u001b[38;5;241m+\u001b[39m \u001b[38;5;241m1\u001b[39m, _ECONVERR), method)\n",
      "\u001b[1;31mRuntimeError\u001b[0m: Derivative was zero. Failed to converge after 1 iterations, value is 1.8164965809277258."
     ]
    }
   ],
   "source": [
    "f_prime = lambda x: 3 * x**2 - 6 * x + 1\n",
    "\n",
    "\n",
    "def func2(x):\n",
    "    y = x**3 - 3 * x**2 + x - 1\n",
    "    print(f\"x={x:.2f}\\t y={y:.2f}\")\n",
    "    return y\n",
    "\n",
    "\n",
    "# newton(func2, x0=3, fprime=f_prime, full_output=True)\n",
    "# newton(func2, x0=1, fprime=f_prime, full_output=True)\n",
    "# newton(func2, x0=0, fprime=f_prime, full_output=True)\n",
    "newton(func2, x0=1 + 6 ** (1 / 2) / 3, fprime=f_prime, full_output=True)"
   ]
  },
  {
   "cell_type": "code",
   "execution_count": null,
   "metadata": {},
   "outputs": [
    {
     "name": "stdout",
     "output_type": "stream",
     "text": [
      "x=3.000\t y=-2.00\n",
      "x=3.222\t y=0.31\n",
      "x=3.196\t y=0.00\n",
      "x=3.196\t y=0.00\n",
      "x=3.196\t y=0.00\n"
     ]
    },
    {
     "data": {
      "text/plain": [
       "(3.195823345445647,\n",
       "       converged: True\n",
       "            flag: converged\n",
       "  function_calls: 10\n",
       "      iterations: 5\n",
       "            root: 3.195823345445647\n",
       "          method: newton)"
      ]
     },
     "execution_count": 32,
     "metadata": {},
     "output_type": "execute_result"
    }
   ],
   "source": [
    "from scipy.optimize import newton\n",
    "\n",
    "\n",
    "# ####################################################################\n",
    "def f(x: float) -> float:\n",
    "    y = x**3 - 3 * x**2 - 2\n",
    "    print(f\"x={x:.3f}\\t y={y:.2f}\")\n",
    "    return y\n",
    "\n",
    "\n",
    "def f_prime(x: float) -> float:\n",
    "    return 3 * x**2 - 6 * x\n",
    "\n",
    "\n",
    "newton(f, x0=3, fprime=f_prime, full_output=True)"
   ]
  },
  {
   "cell_type": "code",
   "execution_count": null,
   "metadata": {},
   "outputs": [
    {
     "name": "stdout",
     "output_type": "stream",
     "text": [
      "x=2.000\t y=-6.00\n"
     ]
    },
    {
     "ename": "RuntimeError",
     "evalue": "Derivative was zero. Failed to converge after 1 iterations, value is 2.0.",
     "output_type": "error",
     "traceback": [
      "\u001b[1;31m---------------------------------------------------------------------------\u001b[0m",
      "\u001b[1;31mRuntimeError\u001b[0m                              Traceback (most recent call last)",
      "Cell \u001b[1;32mIn[34], line 1\u001b[0m\n\u001b[1;32m----> 1\u001b[0m \u001b[43mnewton\u001b[49m\u001b[43m(\u001b[49m\u001b[43mf\u001b[49m\u001b[43m,\u001b[49m\u001b[43m \u001b[49m\u001b[43mx0\u001b[49m\u001b[38;5;241;43m=\u001b[39;49m\u001b[38;5;241;43m2\u001b[39;49m\u001b[43m,\u001b[49m\u001b[43m \u001b[49m\u001b[43mfprime\u001b[49m\u001b[38;5;241;43m=\u001b[39;49m\u001b[43mf_prime\u001b[49m\u001b[43m,\u001b[49m\u001b[43m \u001b[49m\u001b[43mfull_output\u001b[49m\u001b[38;5;241;43m=\u001b[39;49m\u001b[38;5;28;43;01mTrue\u001b[39;49;00m\u001b[43m)\u001b[49m\n",
      "File \u001b[1;32mc:\\Python310\\lib\\site-packages\\scipy\\optimize\\_zeros_py.py:322\u001b[0m, in \u001b[0;36mnewton\u001b[1;34m(func, x0, fprime, args, tol, maxiter, fprime2, x1, rtol, full_output, disp)\u001b[0m\n\u001b[0;32m    318\u001b[0m \u001b[38;5;28;01mif\u001b[39;00m disp:\n\u001b[0;32m    319\u001b[0m     msg \u001b[38;5;241m+\u001b[39m\u001b[38;5;241m=\u001b[39m (\n\u001b[0;32m    320\u001b[0m         \u001b[38;5;124m\"\u001b[39m\u001b[38;5;124m Failed to converge after \u001b[39m\u001b[38;5;132;01m%d\u001b[39;00m\u001b[38;5;124m iterations, value is \u001b[39m\u001b[38;5;132;01m%s\u001b[39;00m\u001b[38;5;124m.\u001b[39m\u001b[38;5;124m\"\u001b[39m\n\u001b[0;32m    321\u001b[0m         \u001b[38;5;241m%\u001b[39m (itr \u001b[38;5;241m+\u001b[39m \u001b[38;5;241m1\u001b[39m, p0))\n\u001b[1;32m--> 322\u001b[0m     \u001b[38;5;28;01mraise\u001b[39;00m \u001b[38;5;167;01mRuntimeError\u001b[39;00m(msg)\n\u001b[0;32m    323\u001b[0m warnings\u001b[38;5;241m.\u001b[39mwarn(msg, \u001b[38;5;167;01mRuntimeWarning\u001b[39;00m, stacklevel\u001b[38;5;241m=\u001b[39m\u001b[38;5;241m2\u001b[39m)\n\u001b[0;32m    324\u001b[0m \u001b[38;5;28;01mreturn\u001b[39;00m _results_select(\n\u001b[0;32m    325\u001b[0m     full_output, (p0, funcalls, itr \u001b[38;5;241m+\u001b[39m \u001b[38;5;241m1\u001b[39m, _ECONVERR), method)\n",
      "\u001b[1;31mRuntimeError\u001b[0m: Derivative was zero. Failed to converge after 1 iterations, value is 2.0."
     ]
    }
   ],
   "source": [
    "newton(f, x0=2, fprime=f_prime, full_output=True)"
   ]
  },
  {
   "cell_type": "code",
   "execution_count": null,
   "metadata": {},
   "outputs": [
    {
     "name": "stdout",
     "output_type": "stream",
     "text": [
      "x=0.000\t y=-2.00\n"
     ]
    },
    {
     "ename": "RuntimeError",
     "evalue": "Derivative was zero. Failed to converge after 1 iterations, value is 0.0.",
     "output_type": "error",
     "traceback": [
      "\u001b[1;31m---------------------------------------------------------------------------\u001b[0m",
      "\u001b[1;31mRuntimeError\u001b[0m                              Traceback (most recent call last)",
      "Cell \u001b[1;32mIn[36], line 1\u001b[0m\n\u001b[1;32m----> 1\u001b[0m \u001b[43mnewton\u001b[49m\u001b[43m(\u001b[49m\u001b[43mf\u001b[49m\u001b[43m,\u001b[49m\u001b[43m \u001b[49m\u001b[43mx0\u001b[49m\u001b[38;5;241;43m=\u001b[39;49m\u001b[38;5;241;43m0\u001b[39;49m\u001b[43m,\u001b[49m\u001b[43m \u001b[49m\u001b[43mfprime\u001b[49m\u001b[38;5;241;43m=\u001b[39;49m\u001b[43mf_prime\u001b[49m\u001b[43m,\u001b[49m\u001b[43m \u001b[49m\u001b[43mfull_output\u001b[49m\u001b[38;5;241;43m=\u001b[39;49m\u001b[38;5;28;43;01mTrue\u001b[39;49;00m\u001b[43m)\u001b[49m\n",
      "File \u001b[1;32mc:\\Python310\\lib\\site-packages\\scipy\\optimize\\_zeros_py.py:322\u001b[0m, in \u001b[0;36mnewton\u001b[1;34m(func, x0, fprime, args, tol, maxiter, fprime2, x1, rtol, full_output, disp)\u001b[0m\n\u001b[0;32m    318\u001b[0m \u001b[38;5;28;01mif\u001b[39;00m disp:\n\u001b[0;32m    319\u001b[0m     msg \u001b[38;5;241m+\u001b[39m\u001b[38;5;241m=\u001b[39m (\n\u001b[0;32m    320\u001b[0m         \u001b[38;5;124m\"\u001b[39m\u001b[38;5;124m Failed to converge after \u001b[39m\u001b[38;5;132;01m%d\u001b[39;00m\u001b[38;5;124m iterations, value is \u001b[39m\u001b[38;5;132;01m%s\u001b[39;00m\u001b[38;5;124m.\u001b[39m\u001b[38;5;124m\"\u001b[39m\n\u001b[0;32m    321\u001b[0m         \u001b[38;5;241m%\u001b[39m (itr \u001b[38;5;241m+\u001b[39m \u001b[38;5;241m1\u001b[39m, p0))\n\u001b[1;32m--> 322\u001b[0m     \u001b[38;5;28;01mraise\u001b[39;00m \u001b[38;5;167;01mRuntimeError\u001b[39;00m(msg)\n\u001b[0;32m    323\u001b[0m warnings\u001b[38;5;241m.\u001b[39mwarn(msg, \u001b[38;5;167;01mRuntimeWarning\u001b[39;00m, stacklevel\u001b[38;5;241m=\u001b[39m\u001b[38;5;241m2\u001b[39m)\n\u001b[0;32m    324\u001b[0m \u001b[38;5;28;01mreturn\u001b[39;00m _results_select(\n\u001b[0;32m    325\u001b[0m     full_output, (p0, funcalls, itr \u001b[38;5;241m+\u001b[39m \u001b[38;5;241m1\u001b[39m, _ECONVERR), method)\n",
      "\u001b[1;31mRuntimeError\u001b[0m: Derivative was zero. Failed to converge after 1 iterations, value is 0.0."
     ]
    }
   ],
   "source": [
    "newton(f, x0=0, fprime=f_prime, full_output=True)"
   ]
  },
  {
   "cell_type": "code",
   "execution_count": null,
   "metadata": {},
   "outputs": [
    {
     "name": "stdout",
     "output_type": "stream",
     "text": [
      "x=-2.000\t y=-22.00\n",
      "x=-1.083\t y=-6.79\n",
      "x=-0.406\t y=-2.56\n",
      "x=0.469\t y=-2.56\n",
      "x=-0.717\t y=-3.91\n",
      "x=-0.048\t y=-2.01\n",
      "x=6.709\t y=164.96\n",
      "x=4.969\t y=46.61\n",
      "x=3.916\t y=12.04\n",
      "x=3.381\t y=2.35\n",
      "x=3.213\t y=0.20\n",
      "x=3.196\t y=0.00\n",
      "x=3.196\t y=0.00\n",
      "x=3.196\t y=0.00\n"
     ]
    },
    {
     "data": {
      "text/plain": [
       "(3.1958233454456466,\n",
       "       converged: True\n",
       "            flag: converged\n",
       "  function_calls: 28\n",
       "      iterations: 14\n",
       "            root: 3.1958233454456466\n",
       "          method: newton)"
      ]
     },
     "execution_count": 44,
     "metadata": {},
     "output_type": "execute_result"
    }
   ],
   "source": [
    "newton(f, x0=-2, fprime=f_prime, full_output=True)"
   ]
  },
  {
   "cell_type": "markdown",
   "metadata": {},
   "source": [
    "# Interpolación"
   ]
  },
  {
   "cell_type": "code",
   "execution_count": null,
   "metadata": {},
   "outputs": [
    {
     "name": "stdout",
     "output_type": "stream",
     "text": [
      "x=0.00\t y=-1.00\n",
      "x=1.00\t y=-2.00\n",
      "x=0.00\t y=-1.00\n",
      "x=1.00\t y=-2.00\n",
      "x=0.00\t y=-1.00\n",
      "x=1.00\t y=-2.00\n",
      "x=0.00\t y=-1.00\n",
      "x=1.00\t y=-2.00\n",
      "x=0.00\t y=-1.00\n",
      "x=1.00\t y=-2.00\n",
      "x=0.00\t y=-1.00\n",
      "x=1.00\t y=-2.00\n",
      "x=0.00\t y=-1.00\n",
      "x=1.00\t y=-2.00\n",
      "x=0.00\t y=-1.00\n",
      "x=1.00\t y=-2.00\n",
      "x=0.00\t y=-1.00\n",
      "x=1.00\t y=-2.00\n",
      "x=0.00\t y=-1.00\n",
      "x=1.00\t y=-2.00\n",
      "x=0.00\t y=-1.00\n",
      "x=1.00\t y=-2.00\n",
      "x=0.00\t y=-1.00\n",
      "x=1.00\t y=-2.00\n",
      "x=0.00\t y=-1.00\n",
      "x=1.00\t y=-2.00\n",
      "x=0.00\t y=-1.00\n",
      "x=1.00\t y=-2.00\n",
      "x=0.00\t y=-1.00\n",
      "x=1.00\t y=-2.00\n",
      "x=0.00\t y=-1.00\n",
      "x=1.00\t y=-2.00\n",
      "x=0.00\t y=-1.00\n",
      "x=1.00\t y=-2.00\n",
      "x=0.00\t y=-1.00\n",
      "x=1.00\t y=-2.00\n",
      "x=0.00\t y=-1.00\n",
      "x=1.00\t y=-2.00\n",
      "x=0.00\t y=-1.00\n",
      "x=1.00\t y=-2.00\n",
      "x=0.00\t y=-1.00\n",
      "x=1.00\t y=-2.00\n",
      "x=0.00\t y=-1.00\n",
      "x=1.00\t y=-2.00\n",
      "x=0.00\t y=-1.00\n",
      "x=1.00\t y=-2.00\n",
      "x=0.00\t y=-1.00\n",
      "x=1.00\t y=-2.00\n",
      "x=0.00\t y=-1.00\n",
      "x=1.00\t y=-2.00\n"
     ]
    },
    {
     "ename": "RuntimeError",
     "evalue": "Failed to converge after 50 iterations, value is 0.0.",
     "output_type": "error",
     "traceback": [
      "\u001b[1;31m---------------------------------------------------------------------------\u001b[0m",
      "\u001b[1;31mRuntimeError\u001b[0m                              Traceback (most recent call last)",
      "Cell \u001b[1;32mIn[17], line 1\u001b[0m\n\u001b[1;32m----> 1\u001b[0m \u001b[43mnewton\u001b[49m\u001b[43m(\u001b[49m\u001b[43mf\u001b[49m\u001b[43m,\u001b[49m\u001b[43m \u001b[49m\u001b[43mx0\u001b[49m\u001b[38;5;241;43m=\u001b[39;49m\u001b[38;5;241;43m0\u001b[39;49m\u001b[43m,\u001b[49m\u001b[43m \u001b[49m\u001b[43mfprime\u001b[49m\u001b[38;5;241;43m=\u001b[39;49m\u001b[43mf_prime\u001b[49m\u001b[43m,\u001b[49m\u001b[43m \u001b[49m\u001b[43mfull_output\u001b[49m\u001b[38;5;241;43m=\u001b[39;49m\u001b[38;5;28;43;01mTrue\u001b[39;49;00m\u001b[43m)\u001b[49m\n",
      "File \u001b[1;32mc:\\Python310\\lib\\site-packages\\scipy\\optimize\\_zeros_py.py:391\u001b[0m, in \u001b[0;36mnewton\u001b[1;34m(func, x0, fprime, args, tol, maxiter, fprime2, x1, rtol, full_output, disp)\u001b[0m\n\u001b[0;32m    388\u001b[0m \u001b[38;5;28;01mif\u001b[39;00m disp:\n\u001b[0;32m    389\u001b[0m     msg \u001b[38;5;241m=\u001b[39m (\u001b[38;5;124m\"\u001b[39m\u001b[38;5;124mFailed to converge after \u001b[39m\u001b[38;5;132;01m%d\u001b[39;00m\u001b[38;5;124m iterations, value is \u001b[39m\u001b[38;5;132;01m%s\u001b[39;00m\u001b[38;5;124m.\u001b[39m\u001b[38;5;124m\"\u001b[39m\n\u001b[0;32m    390\u001b[0m            \u001b[38;5;241m%\u001b[39m (itr \u001b[38;5;241m+\u001b[39m \u001b[38;5;241m1\u001b[39m, p))\n\u001b[1;32m--> 391\u001b[0m     \u001b[38;5;28;01mraise\u001b[39;00m \u001b[38;5;167;01mRuntimeError\u001b[39;00m(msg)\n\u001b[0;32m    393\u001b[0m \u001b[38;5;28;01mreturn\u001b[39;00m _results_select(full_output, (p, funcalls, itr \u001b[38;5;241m+\u001b[39m \u001b[38;5;241m1\u001b[39m, _ECONVERR), method)\n",
      "\u001b[1;31mRuntimeError\u001b[0m: Failed to converge after 50 iterations, value is 0.0."
     ]
    }
   ],
   "source": [
    "newton(f, x0=0, fprime=f_prime, full_output=True)"
   ]
  },
  {
   "cell_type": "code",
   "execution_count": null,
   "metadata": {},
   "outputs": [
    {
     "name": "stdout",
     "output_type": "stream",
     "text": [
      "x=1.82\t y=-3.09\n",
      "x=184399.55\t y=6270072108749772.00\n",
      "x=122933.37\t y=1857799143305945.75\n",
      "x=81955.91\t y=550459005405771.50\n",
      "x=54637.61\t y=163098964552530.97\n",
      "x=36425.41\t y=48325619118581.03\n",
      "x=24283.94\t y=14318701955664.32\n",
      "x=16189.62\t y=4242578353635.88\n",
      "x=10793.42\t y=1257060250530.32\n",
      "x=7195.94\t y=372462294854.03\n",
      "x=4797.63\t y=110359197408.83\n",
      "x=3198.75\t y=32699020743.34\n",
      "x=2132.84\t y=9688598264.51\n",
      "x=1422.22\t y=2870695465.73\n",
      "x=948.48\t y=850576223.22\n",
      "x=632.66\t y=252022443.77\n",
      "x=422.10\t y=74673222.58\n",
      "x=281.74\t y=22125336.38\n",
      "x=188.16\t y=6555613.11\n",
      "x=125.78\t y=1942375.64\n",
      "x=84.19\t y=575499.70\n",
      "x=56.46\t y=170505.59\n",
      "x=37.98\t y=50511.44\n",
      "x=25.67\t y=14960.35\n",
      "x=17.46\t y=4428.52\n",
      "x=12.01\t y=1309.19\n",
      "x=8.38\t y=385.76\n",
      "x=6.00\t y=112.68\n",
      "x=4.45\t y=32.14\n",
      "x=3.50\t y=8.55\n",
      "x=2.98\t y=1.83\n",
      "x=2.80\t y=0.20\n",
      "x=2.77\t y=0.00\n",
      "x=2.77\t y=0.00\n",
      "x=2.77\t y=0.00\n"
     ]
    },
    {
     "data": {
      "text/plain": [
       "(2.7692923542386314,\n",
       "       converged: True\n",
       "            flag: converged\n",
       "  function_calls: 70\n",
       "      iterations: 35\n",
       "            root: 2.7692923542386314\n",
       "          method: newton)"
      ]
     },
     "execution_count": 22,
     "metadata": {},
     "output_type": "execute_result"
    }
   ],
   "source": [
    "newton(f, x0=1.8165, fprime=f_prime, full_output=True)"
   ]
  },
  {
   "cell_type": "code",
   "execution_count": null,
   "metadata": {},
   "outputs": [],
   "source": [
    "import sympy as sym\n",
    "\n",
    "\n",
    "def lagrange_approx(*, xs: list[float], ys: list[float]) -> sym.Symbol:\n",
    "    \"\"\"Approximate a set of points using Lagrange polynomials.\n",
    "\n",
    "    ## Parameters\n",
    "    ``x``: list of x values\n",
    "    ``y``: list of y values\n",
    "\n",
    "    ## Return\n",
    "    ``lagrange``: the Lagrange polynomial\n",
    "\n",
    "    \"\"\"\n",
    "\n",
    "    x = sym.symbols(\"x\")\n",
    "    lagrange: sym.Symbol = sym.S.Zero\n",
    "\n",
    "    # -- Summation of the Lagrange polynomials\n",
    "    for i in range(len(xs)):\n",
    "\n",
    "        # -- Calculation of the Lagrange polynomial\n",
    "        term = sym.S.One\n",
    "        for j in range(len(xs)):\n",
    "            if i != j:\n",
    "                term *= (x - xs[j]) / (xs[i] - xs[j])\n",
    "        term = sym.expand(term)\n",
    "        lagrange += term * ys[i]\n",
    "\n",
    "    return lagrange"
   ]
  },
  {
   "cell_type": "code",
   "execution_count": null,
   "metadata": {},
   "outputs": [
    {
     "data": {
      "text/latex": [
       "$\\displaystyle x$"
      ],
      "text/plain": [
       "x"
      ]
     },
     "execution_count": 85,
     "metadata": {},
     "output_type": "execute_result"
    }
   ],
   "source": [
    "lagrange_approx(xs=[-1, 0, 1, 2], ys=[-1, 0, 1, 2])"
   ]
  },
  {
   "cell_type": "code",
   "execution_count": null,
   "metadata": {},
   "outputs": [],
   "source": []
  },
  {
   "cell_type": "markdown",
   "metadata": {},
   "source": [
    "# Cubic splines"
   ]
  },
  {
   "cell_type": "code",
   "execution_count": null,
   "metadata": {},
   "outputs": [],
   "source": [
    "import sympy as sym\n",
    "from IPython.display import display\n",
    "\n",
    "\n",
    "# ###################################################################\n",
    "def cubic_spline(xs: list[float], ys: list[float]) -> list[sym.Symbol]:\n",
    "    \"\"\"\n",
    "    Cubic spline interpolation ``S``. Every two points are interpolated by a cubic polynomial\n",
    "    ``S_j`` of the form ``S_j(x) = a_j + b_j(x - x_j) + c_j(x - x_j)^2 + d_j(x - x_j)^3.``\n",
    "\n",
    "    xs must be different  but not necessarily ordered nor equally spaced.\n",
    "\n",
    "    ## Parameters\n",
    "    - xs, ys: points to be interpolated\n",
    "\n",
    "    ## Return\n",
    "    - List of symbolic expressions for the cubic spline interpolation.\n",
    "    \"\"\"\n",
    "\n",
    "    points = sorted(zip(xs, ys), key=lambda x: x[0])  # sort points by x\n",
    "\n",
    "    xs = [x for x, _ in points]\n",
    "    ys = [y for _, y in points]\n",
    "\n",
    "    n = len(points) - 1  # number of splines\n",
    "\n",
    "    h = [xs[i + 1] - xs[i] for i in range(n)]  # distances between  contiguous xs\n",
    "\n",
    "    alpha = [0] * n\n",
    "    for i in range(1, n):\n",
    "        alpha[i] = 3 / h[i] * (ys[i + 1] - ys[i]) - 3 / h[i - 1] * (ys[i] - ys[i - 1])\n",
    "\n",
    "    l = [1]\n",
    "    u = [0]\n",
    "    z = [0]\n",
    "\n",
    "    for i in range(1, n):\n",
    "        l += [2 * (xs[i + 1] - xs[i - 1]) - h[i - 1] * u[i - 1]]\n",
    "        u += [h[i] / l[i]]\n",
    "        z += [(alpha[i] - h[i - 1] * z[i - 1]) / l[i]]\n",
    "\n",
    "    l.append(1)\n",
    "    z.append(0)\n",
    "    c = [0] * (n + 1)\n",
    "\n",
    "    x = sym.Symbol(\"x\")\n",
    "    splines = []\n",
    "    for j in range(n - 1, -1, -1):\n",
    "        c[j] = z[j] - u[j] * c[j + 1]\n",
    "        b = (ys[j + 1] - ys[j]) / h[j] - h[j] * (c[j + 1] + 2 * c[j]) / 3\n",
    "        d = (c[j + 1] - c[j]) / (3 * h[j])\n",
    "        a = ys[j]\n",
    "        print(j, a, b, c[j], d)\n",
    "        S = a + b * (x - xs[j]) + c[j] * (x - xs[j]) ** 2 + d * (x - xs[j]) ** 3\n",
    "\n",
    "        splines.append(S)\n",
    "    splines.reverse()\n",
    "    return splines"
   ]
  },
  {
   "cell_type": "code",
   "execution_count": null,
   "metadata": {},
   "outputs": [],
   "source": [
    "import sympy as sym\n",
    "from IPython.display import display\n",
    "\n",
    "\n",
    "# ###################################################################\n",
    "def cubic_spline_clamped(\n",
    "    xs: list[float], ys: list[float], d0: float, dn: float\n",
    ") -> list[sym.Symbol]:\n",
    "    \"\"\"\n",
    "    Cubic spline interpolation ``S``. Every two points are interpolated by a cubic polynomial\n",
    "    ``S_j`` of the form ``S_j(x) = a_j + b_j(x - x_j) + c_j(x - x_j)^2 + d_j(x - x_j)^3.``\n",
    "\n",
    "    xs must be different  but not necessarily ordered nor equally spaced.\n",
    "\n",
    "    ## Parameters\n",
    "    - xs, ys: points to be interpolated\n",
    "    - d0, dn: derivatives at the first and last points\n",
    "\n",
    "    ## Return\n",
    "    - List of symbolic expressions for the cubic spline interpolation.\n",
    "    \"\"\"\n",
    "\n",
    "    points = sorted(zip(xs, ys), key=lambda x: x[0])  # sort points by x\n",
    "    xs = [x for x, _ in points]\n",
    "    ys = [y for _, y in points]\n",
    "    n = len(points) - 1  # number of splines\n",
    "    h = [xs[i + 1] - xs[i] for i in range(n)]  # distances between  contiguous xs\n",
    "\n",
    "    alpha = [0] * (n + 1)  # prealloc\n",
    "    alpha[0] = 3 / h[0] * (ys[1] - ys[0]) - 3 * d0\n",
    "    alpha[-1] = 3 * dn - 3 / h[n - 1] * (ys[n] - ys[n - 1])\n",
    "\n",
    "    for i in range(1, n):\n",
    "        alpha[i] = 3 / h[i] * (ys[i + 1] - ys[i]) - 3 / h[i - 1] * (ys[i] - ys[i - 1])\n",
    "\n",
    "    l = [2 * h[0]]\n",
    "    u = [0.5]\n",
    "    z = [alpha[0] / l[0]]\n",
    "\n",
    "    for i in range(1, n):\n",
    "        l += [2 * (xs[i + 1] - xs[i - 1]) - h[i - 1] * u[i - 1]]\n",
    "        u += [h[i] / l[i]]\n",
    "        z += [(alpha[i] - h[i - 1] * z[i - 1]) / l[i]]\n",
    "\n",
    "    l.append(h[n - 1] * (2 - u[n - 1]))\n",
    "    z.append((alpha[n] - h[n - 1] * z[n - 1]) / l[n])\n",
    "    c = [0] * (n + 1)  # prealloc\n",
    "    c[-1] = z[-1]\n",
    "\n",
    "    x = sym.Symbol(\"x\")\n",
    "    splines = []\n",
    "    for j in range(n - 1, -1, -1):\n",
    "        c[j] = z[j] - u[j] * c[j + 1]\n",
    "        b = (ys[j + 1] - ys[j]) / h[j] - h[j] * (c[j + 1] + 2 * c[j]) / 3\n",
    "        d = (c[j + 1] - c[j]) / (3 * h[j])\n",
    "        a = ys[j]\n",
    "        print(j, a, b, c[j], d)\n",
    "        S = a + b * (x - xs[j]) + c[j] * (x - xs[j]) ** 2 + d * (x - xs[j]) ** 3\n",
    "\n",
    "        splines.append(S)\n",
    "    splines.reverse()\n",
    "    return splines"
   ]
  },
  {
   "cell_type": "code",
   "execution_count": null,
   "metadata": {},
   "outputs": [
    {
     "name": "stdout",
     "output_type": "stream",
     "text": [
      "0 1 1.0 -0.5 0.25\n"
     ]
    },
    {
     "data": {
      "text/latex": [
       "$\\displaystyle 1.0 x + 0.25 \\left(x + 1\\right)^{3} - 0.5 \\left(x + 1\\right)^{2} + 2.0$"
      ],
      "text/plain": [
       "1.0*x + 0.25*(x + 1)**3 - 0.5*(x + 1)**2 + 2.0"
      ]
     },
     "metadata": {},
     "output_type": "display_data"
    },
    {
     "name": "stdout",
     "output_type": "stream",
     "text": [
      "______\n"
     ]
    },
    {
     "data": {
      "text/latex": [
       "$\\displaystyle 0.25 x^{3} + 0.25 x^{2} + 0.75 x + 1.75$"
      ],
      "text/plain": [
       "0.25*x**3 + 0.25*x**2 + 0.75*x + 1.75"
      ]
     },
     "metadata": {},
     "output_type": "display_data"
    }
   ],
   "source": [
    "xs = [\n",
    "    -1,\n",
    "    1,\n",
    "]\n",
    "ys = [\n",
    "    1,\n",
    "    3,\n",
    "]\n",
    "\n",
    "ss = cubic_spline_clamped(xs=xs, ys=ys, d0=1, dn=2)\n",
    "_ = [display(s) for s in ss]\n",
    "print(\"______\")\n",
    "_ = [display(s.expand()) for s in ss]"
   ]
  },
  {
   "cell_type": "code",
   "execution_count": null,
   "metadata": {},
   "outputs": [
    {
     "name": "stdout",
     "output_type": "stream",
     "text": [
      "2 5 2.0 -6.0 2.0\n",
      "1 1 2.0 6.0 -4.0\n",
      "0 3 -4.0 0.0 2.0\n"
     ]
    },
    {
     "data": {
      "text/latex": [
       "$\\displaystyle - 4.0 x + 2.0 \\left(x + 1\\right)^{3} - 1.0$"
      ],
      "text/plain": [
       "-4.0*x + 2.0*(x + 1)**3 - 1.0"
      ]
     },
     "metadata": {},
     "output_type": "display_data"
    },
    {
     "data": {
      "text/latex": [
       "$\\displaystyle - 4.0 x^{3} + 6.0 x^{2} + 2.0 x + 1$"
      ],
      "text/plain": [
       "-4.0*x**3 + 6.0*x**2 + 2.0*x + 1"
      ]
     },
     "metadata": {},
     "output_type": "display_data"
    },
    {
     "data": {
      "text/latex": [
       "$\\displaystyle 2.0 x + 2.0 \\left(x - 1\\right)^{3} - 6.0 \\left(x - 1\\right)^{2} + 3.0$"
      ],
      "text/plain": [
       "2.0*x + 2.0*(x - 1)**3 - 6.0*(x - 1)**2 + 3.0"
      ]
     },
     "metadata": {},
     "output_type": "display_data"
    }
   ],
   "source": [
    "xs = [-1, 0, 1, 2]\n",
    "ys = [3, 1, 5, 3]\n",
    "\n",
    "ss = cubic_spline(xs=xs, ys=ys)\n",
    "_ = [display(s) for s in ss]"
   ]
  }
 ],
 "metadata": {
  "kernelspec": {
   "display_name": "Python 3",
   "language": "python",
   "name": "python3"
  },
  "language_info": {
   "codemirror_mode": {
    "name": "ipython",
    "version": 3
   },
   "file_extension": ".py",
   "mimetype": "text/x-python",
   "name": "python",
   "nbconvert_exporter": "python",
   "pygments_lexer": "ipython3",
   "version": "3.10.11"
  }
 },
 "nbformat": 4,
 "nbformat_minor": 2
}
