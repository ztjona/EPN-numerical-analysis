{
 "cells": [
  {
   "cell_type": "markdown",
   "metadata": {},
   "source": [
    "# Soluciones\n",
    "Eliminación gaussiana"
   ]
  },
  {
   "cell_type": "code",
   "execution_count": 92,
   "metadata": {},
   "outputs": [
    {
     "name": "stdout",
     "output_type": "stream",
     "text": [
      "The autoreload extension is already loaded. To reload it, use:\n",
      "  %reload_ext autoreload\n",
      "[07-05 15:59:24][INFO] Intercambiando filas 0 y 2.\n",
      "[07-05 15:59:24][INFO] \n",
      "[[  1   2   4  11]\n",
      " [  0   1  -6 -19]\n",
      " [  0  -9 -15 -36]]\n",
      "[07-05 15:59:24][INFO] \n",
      "[[   1    2    4   11]\n",
      " [   0    1   -6  -19]\n",
      " [   0    0  -69 -207]]\n"
     ]
    },
    {
     "data": {
      "text/plain": [
       "(array([ 1., -1.,  3.]), 11, 17)"
      ]
     },
     "execution_count": 92,
     "metadata": {},
     "output_type": "execute_result"
    }
   ],
   "source": [
    "%load_ext autoreload\n",
    "%autoreload 2\n",
    "from src import eliminacion_gaussiana\n",
    "\n",
    "# ejercicio 3.a\n",
    "A = [[4, -1, 1, 8], [2, 5, 2, 3], [1, 2, 4, 11]]\n",
    "\n",
    "eliminacion_gaussiana(A)"
   ]
  },
  {
   "cell_type": "code",
   "execution_count": 93,
   "metadata": {},
   "outputs": [
    {
     "name": "stdout",
     "output_type": "stream",
     "text": [
      "[07-05 15:59:24][INFO] Intercambiando filas 0 y 2.\n",
      "[07-05 15:59:24][INFO] \n",
      "[[ 1  1 -3 -9]\n",
      " [ 0  2  5 13]\n",
      " [ 0 -3 14 45]]\n",
      "[07-05 15:59:24][INFO] \n",
      "[[ 1  1 -3 -9]\n",
      " [ 0  2  5 13]\n",
      " [ 0  0 21 64]]\n"
     ]
    },
    {
     "data": {
      "text/plain": [
       "(array([ 1.26190476, -1.11904762,  3.04761905]), 11, 17)"
      ]
     },
     "execution_count": 93,
     "metadata": {},
     "output_type": "execute_result"
    }
   ],
   "source": [
    "# ejercicio 3.b\n",
    "A = [[4, 1, 2, 9], [2, 4, -1, -5], [1, 1, -3, -9]]\n",
    "\n",
    "eliminacion_gaussiana(A)"
   ]
  },
  {
   "cell_type": "code",
   "execution_count": 94,
   "metadata": {},
   "outputs": [
    {
     "name": "stdout",
     "output_type": "stream",
     "text": [
      "[07-05 15:59:24][INFO] Intercambiando filas 0 y 2.\n",
      "[07-05 15:59:24][INFO] \n",
      "[[ 1.  1. -3. -9.]\n",
      " [ 0.  2.  5. 13.]\n",
      " [ 0. -3. 14. 45.]]\n",
      "[07-05 15:59:24][INFO] \n",
      "[[ 1.   1.  -3.  -9. ]\n",
      " [ 0.   2.   5.  13. ]\n",
      " [ 0.   0.  21.5 64.5]]\n"
     ]
    },
    {
     "data": {
      "text/plain": [
       "(array([ 1., -1.,  3.]), 11, 17)"
      ]
     },
     "execution_count": 94,
     "metadata": {},
     "output_type": "execute_result"
    }
   ],
   "source": [
    "# ejercicio 3.b\n",
    "A = [[4, 1, 2, 9], [2, 4, -1, -5], [1, 1, -3, -9.0]]\n",
    "\n",
    "eliminacion_gaussiana(A)"
   ]
  },
  {
   "cell_type": "code",
   "execution_count": 95,
   "metadata": {},
   "outputs": [
    {
     "name": "stdout",
     "output_type": "stream",
     "text": [
      "[07-05 15:59:24][INFO] \n",
      "[[ 1 -1  3  2]\n",
      " [ 0  0 -8 -7]\n",
      " [ 0  2 -3  1]]\n",
      "[07-05 15:59:24][INFO] Intercambiando filas 1 y 2.\n",
      "[07-05 15:59:24][INFO] \n",
      "[[ 1 -1  3  2]\n",
      " [ 0  2 -3  1]\n",
      " [ 0  0 -8 -7]]\n"
     ]
    },
    {
     "data": {
      "text/plain": [
       "(array([1.1875, 1.8125, 0.875 ]), 11, 17)"
      ]
     },
     "execution_count": 95,
     "metadata": {},
     "output_type": "execute_result"
    }
   ],
   "source": [
    "# ejercicio 5.a\n",
    "A = [[1, -1, 3, 2], [3, -3, 1, -1], [1, 1, 0, 3]]\n",
    "%autoreload 2\n",
    "\n",
    "eliminacion_gaussiana(A)"
   ]
  },
  {
   "cell_type": "code",
   "execution_count": 96,
   "metadata": {},
   "outputs": [
    {
     "name": "stdout",
     "output_type": "stream",
     "text": [
      "[07-05 15:59:24][INFO] Intercambiando filas 0 y 1.\n",
      "[07-05 15:59:24][INFO] \n",
      "[[-1.   0.   2.   3. ]\n",
      " [ 0.   1.5  7.   7. ]\n",
      " [ 0.  -4.5 13.  13. ]]\n",
      "[07-05 15:59:24][INFO] \n",
      "[[-1.   0.   2.   3. ]\n",
      " [ 0.   1.5  7.   7. ]\n",
      " [ 0.   0.  34.  34. ]]\n"
     ]
    },
    {
     "data": {
      "text/plain": [
       "(array([-1.,  0.,  1.]), 11, 17)"
      ]
     },
     "execution_count": 96,
     "metadata": {},
     "output_type": "execute_result"
    }
   ],
   "source": [
    "# ejercicio 5.b\n",
    "A = [[2, 1.5, 3, 1], [-1, 0, 2, 3], [4, -4.5, 5, 1]]\n",
    "\n",
    "eliminacion_gaussiana(A)"
   ]
  },
  {
   "cell_type": "code",
   "execution_count": 97,
   "metadata": {},
   "outputs": [
    {
     "name": "stdout",
     "output_type": "stream",
     "text": [
      "[07-05 15:59:24][INFO] Intercambiando filas 0 y 1.\n",
      "[07-05 15:59:24][INFO] \n",
      "[[ 1.   1.5  0.   0.   4.5]\n",
      " [ 0.  -3.   0.   0.  -6. ]\n",
      " [ 0.  -3.   0.5  0.  -6.6]\n",
      " [ 0.  -5.   1.   1.  -8.2]]\n",
      "[07-05 15:59:24][INFO] \n",
      "[[ 1.   1.5  0.   0.   4.5]\n",
      " [ 0.  -3.   0.   0.  -6. ]\n",
      " [ 0.   0.   0.5  0.  -0.6]\n",
      " [ 0.   0.   1.   1.   1.8]]\n",
      "[07-05 15:59:24][INFO] \n",
      "[[ 1.   1.5  0.   0.   4.5]\n",
      " [ 0.  -3.   0.   0.  -6. ]\n",
      " [ 0.   0.   0.5  0.  -0.6]\n",
      " [ 0.   0.   0.   1.   3. ]]\n"
     ]
    },
    {
     "data": {
      "text/plain": [
       "(array([ 1.5,  2. , -1.2,  3. ]), 26, 36)"
      ]
     },
     "execution_count": 97,
     "metadata": {},
     "output_type": "execute_result"
    }
   ],
   "source": [
    "# ejercicio 5.c\n",
    "A = [\n",
    "    [2, 0, 0, 0, 3],\n",
    "    [1, 1.5, 0, 0, 4.5],\n",
    "    [0, -3, 0.5, 0, -6.6],\n",
    "    [2, -2, 1, 1, 0.8],\n",
    "]\n",
    "\n",
    "eliminacion_gaussiana(A)"
   ]
  },
  {
   "cell_type": "code",
   "execution_count": 98,
   "metadata": {},
   "outputs": [
    {
     "name": "stdout",
     "output_type": "stream",
     "text": [
      "[07-05 15:59:24][INFO] \n",
      "[[ 1  1  0  1  2]\n",
      " [ 0 -1 -1 -1 -3]\n",
      " [ 0 -5 -2 -2 -8]\n",
      " [ 0 -4 -1 -1 -9]]\n",
      "[07-05 15:59:24][INFO] \n",
      "[[ 1  1  0  1  2]\n",
      " [ 0 -1 -1 -1 -3]\n",
      " [ 0  0  3  3  7]\n",
      " [ 0  0  3  3  3]]\n",
      "[07-05 15:59:24][INFO] \n",
      "[[ 1  1  0  1  2]\n",
      " [ 0 -1 -1 -1 -3]\n",
      " [ 0  0  3  3  7]\n",
      " [ 0  0  0  0 -4]]\n"
     ]
    },
    {
     "ename": "ValueError",
     "evalue": "Sin solución.",
     "output_type": "error",
     "traceback": [
      "\u001b[1;31m---------------------------------------------------------------------------\u001b[0m",
      "\u001b[1;31mValueError\u001b[0m                                Traceback (most recent call last)",
      "Cell \u001b[1;32mIn[98], line 8\u001b[0m\n\u001b[0;32m      1\u001b[0m \u001b[38;5;66;03m# ejercicio 5.d\u001b[39;00m\n\u001b[0;32m      2\u001b[0m A \u001b[38;5;241m=\u001b[39m [\n\u001b[0;32m      3\u001b[0m     [\u001b[38;5;241m1\u001b[39m, \u001b[38;5;241m1\u001b[39m, \u001b[38;5;241m0\u001b[39m, \u001b[38;5;241m1\u001b[39m, \u001b[38;5;241m2\u001b[39m],\n\u001b[0;32m      4\u001b[0m     [\u001b[38;5;241m2\u001b[39m, \u001b[38;5;241m1\u001b[39m, \u001b[38;5;241m-\u001b[39m\u001b[38;5;241m1\u001b[39m, \u001b[38;5;241m1\u001b[39m, \u001b[38;5;241m1\u001b[39m],\n\u001b[0;32m      5\u001b[0m     [\u001b[38;5;241m4\u001b[39m, \u001b[38;5;241m-\u001b[39m\u001b[38;5;241m1\u001b[39m, \u001b[38;5;241m-\u001b[39m\u001b[38;5;241m2\u001b[39m, \u001b[38;5;241m2\u001b[39m, \u001b[38;5;241m0\u001b[39m],\n\u001b[0;32m      6\u001b[0m     [\u001b[38;5;241m3\u001b[39m, \u001b[38;5;241m-\u001b[39m\u001b[38;5;241m1\u001b[39m, \u001b[38;5;241m-\u001b[39m\u001b[38;5;241m1\u001b[39m, \u001b[38;5;241m2\u001b[39m, \u001b[38;5;241m-\u001b[39m\u001b[38;5;241m3\u001b[39m],\n\u001b[0;32m      7\u001b[0m ]\n\u001b[1;32m----> 8\u001b[0m \u001b[43meliminacion_gaussiana\u001b[49m\u001b[43m(\u001b[49m\u001b[43mA\u001b[49m\u001b[43m)\u001b[49m\n",
      "File \u001b[1;32mc:\\Users\\Laboratorio IA\\OneDrive\\doctorado\\profesor\\2024 - A\\Métodos numéricos\\clases\\python\\src\\gaussian_elimination.py:90\u001b[0m, in \u001b[0;36meliminacion_gaussiana\u001b[1;34m(A)\u001b[0m\n\u001b[0;32m     88\u001b[0m         \u001b[38;5;28;01mraise\u001b[39;00m \u001b[38;5;167;01mValueError\u001b[39;00m(\u001b[38;5;124m\"\u001b[39m\u001b[38;5;124mInfinitas soluciones.\u001b[39m\u001b[38;5;124m\"\u001b[39m)\n\u001b[0;32m     89\u001b[0m     \u001b[38;5;28;01melse\u001b[39;00m:\n\u001b[1;32m---> 90\u001b[0m         \u001b[38;5;28;01mraise\u001b[39;00m \u001b[38;5;167;01mValueError\u001b[39;00m(\u001b[38;5;124m\"\u001b[39m\u001b[38;5;124mSin solución.\u001b[39m\u001b[38;5;124m\"\u001b[39m)\n\u001b[0;32m     92\u001b[0m \u001b[38;5;66;03m# --- Sustitución hacia atrás\u001b[39;00m\n\u001b[0;32m     93\u001b[0m solucion \u001b[38;5;241m=\u001b[39m np\u001b[38;5;241m.\u001b[39mzeros(n)\n",
      "\u001b[1;31mValueError\u001b[0m: Sin solución."
     ]
    }
   ],
   "source": [
    "# ejercicio 5.d\n",
    "A = [\n",
    "    [1, 1, 0, 1, 2],\n",
    "    [2, 1, -1, 1, 1],\n",
    "    [4, -1, -2, 2, 0],\n",
    "    [3, -1, -1, 2, -3],\n",
    "]\n",
    "eliminacion_gaussiana(A)"
   ]
  },
  {
   "cell_type": "code",
   "execution_count": 100,
   "metadata": {},
   "outputs": [
    {
     "name": "stdout",
     "output_type": "stream",
     "text": [
      "[07-05 16:01:41][INFO] 2024-07-05 16:01:41.845090\n",
      "[07-05 16:01:41][INFO] \n",
      "[[  1.   0.   2.  -1.   1.   2.]\n",
      " [  0.   1.  -5.   3.  -5.   3.]\n",
      " [  0.   1. -10.   3.   2.   0.]\n",
      " [  0.  -1.  -3.   0.   0.   1.]\n",
      " [  0.  -2.  -1.   1.  -1.  -5.]]\n",
      "[07-05 16:01:41][INFO] \n",
      "[[  1.   0.   2.  -1.   1.   2.]\n",
      " [  0.   1.  -5.   3.  -5.   3.]\n",
      " [  0.   0.  -5.   0.   7.  -3.]\n",
      " [  0.   0.  -8.   3.  -5.   4.]\n",
      " [  0.   0. -11.   7. -11.   1.]]\n",
      "[07-05 16:01:41][INFO] \n",
      "[[  1.    0.    2.   -1.    1.    2. ]\n",
      " [  0.    1.   -5.    3.   -5.    3. ]\n",
      " [  0.    0.   -5.    0.    7.   -3. ]\n",
      " [  0.    0.    0.    3.  -16.2   8.8]\n",
      " [  0.    0.    0.    7.  -26.4   7.6]]\n",
      "[07-05 16:01:41][INFO] \n",
      "[[  1.           0.           2.          -1.           1.\n",
      "    2.        ]\n",
      " [  0.           1.          -5.           3.          -5.\n",
      "    3.        ]\n",
      " [  0.           0.          -5.           0.           7.\n",
      "   -3.        ]\n",
      " [  0.           0.           0.           3.         -16.2\n",
      "    8.8       ]\n",
      " [  0.           0.           0.           0.          11.4\n",
      "  -12.93333333]]\n"
     ]
    },
    {
     "data": {
      "text/plain": [
       "(array([ 1.91812865,  1.96491228, -0.98830409, -3.19298246, -1.13450292]),\n",
       " 50,\n",
       " 65)"
      ]
     },
     "execution_count": 100,
     "metadata": {},
     "output_type": "execute_result"
    }
   ],
   "source": [
    "%autoreload 2\n",
    "from src import eliminacion_gaussiana\n",
    "# ejercicio 7.d\n",
    "A = [\n",
    "    [1, 0, 2, -1, 1, 2],\n",
    "    [2, 1, -1, 1, -3, 7],\n",
    "    [3, 1, -4, 0, 5, 6],\n",
    "    [1, -1, -1, -1, 1, 3],\n",
    "    [0, -2, -1, 1, -1, -5],\n",
    "]\n",
    "eliminacion_gaussiana(A)"
   ]
  },
  {
   "cell_type": "code",
   "execution_count": null,
   "metadata": {},
   "outputs": [],
   "source": [
    "adds = lambda n: n**3 / 3 + n**2 / 2 - 5 * n / 6\n",
    "mults = lambda n: n**3 / 3 + n**2 - n / 3"
   ]
  },
  {
   "cell_type": "code",
   "execution_count": null,
   "metadata": {},
   "outputs": [
    {
     "data": {
      "text/plain": [
       "(64.99999999999999, 50.0)"
      ]
     },
     "execution_count": 78,
     "metadata": {},
     "output_type": "execute_result"
    }
   ],
   "source": [
    "mults(5), adds(5)"
   ]
  },
  {
   "cell_type": "code",
   "execution_count": null,
   "metadata": {},
   "outputs": [
    {
     "data": {
      "text/plain": [
       "(35.99999999999999, 26.0)"
      ]
     },
     "execution_count": 79,
     "metadata": {},
     "output_type": "execute_result"
    }
   ],
   "source": [
    "mults(4), adds(4)"
   ]
  },
  {
   "cell_type": "code",
   "execution_count": null,
   "metadata": {},
   "outputs": [
    {
     "name": "stdout",
     "output_type": "stream",
     "text": [
      "[07-05 15:06:35][INFO] \n",
      "[[ 7  2  4  0  1  2]\n",
      " [ 0  7  1  9  2  2]\n",
      " [ 0  0  3  3  1  0]\n",
      " [ 0  6 -4  9 -1 -1]\n",
      " [ 0  1  5  6  5  0]]\n",
      "[07-05 15:06:35][INFO] Intercambiando filas 1 y 4.\n",
      "[07-05 15:06:35][INFO] \n",
      "[[  7   2   4   0   1   2]\n",
      " [  0   1   5   6   5   0]\n",
      " [  0   0   3   3   1   0]\n",
      " [  0   0 -34 -27 -31  -1]\n",
      " [  0   0 -34 -33 -33   2]]\n",
      "[07-05 15:06:35][INFO] \n",
      "[[  7   2   4   0   1   2]\n",
      " [  0   1   5   6   5   0]\n",
      " [  0   0   3   3   1   0]\n",
      " [  0   0   0   7 -19  -1]\n",
      " [  0   0   0   1 -21   2]]\n",
      "[07-05 15:06:35][INFO] Intercambiando filas 3 y 4.\n",
      "[07-05 15:06:35][INFO] \n",
      "[[  7   2   4   0   1   2]\n",
      " [  0   1   5   6   5   0]\n",
      " [  0   0   3   3   1   0]\n",
      " [  0   0   0   1 -21   2]\n",
      " [  0   0   0   0 128 -15]]\n",
      "5 50 65\n"
     ]
    }
   ],
   "source": [
    "import random\n",
    "\n",
    "n = 5  # ok\n",
    "# for n in [2,3,4,5,6,7,8,9,10,50,100]:\n",
    "matrix = [[random.randint(0, 9) for _ in range(n + 1)] for _ in range(n)]\n",
    "_, m, t = eliminacion_gaussiana(matrix)\n",
    "print(n, m, t)"
   ]
  },
  {
   "cell_type": "code",
   "execution_count": 121,
   "metadata": {},
   "outputs": [
    {
     "name": "stdout",
     "output_type": "stream",
     "text": [
      "[07-05 16:11:35][INFO] 2024-07-05 16:11:35.532697\n",
      "[07-05 16:11:35][INFO] \n",
      "[[  1.   0.   2.  -1.   1.   2.]\n",
      " [  0.   1.  -5.   3.  -5.   3.]\n",
      " [  0.   1. -10.   3.   2.   0.]\n",
      " [  0.  -1.  -3.   0.   0.   1.]\n",
      " [  0.  -2.  -1.   1.  -1.  -5.]]\n",
      "[07-05 16:11:35][INFO] \n",
      "[[  1.   0.   2.  -1.   1.   2.]\n",
      " [  0.   1.  -5.   3.  -5.   3.]\n",
      " [  0.   0.  -5.   0.   7.  -3.]\n",
      " [  0.   0.  -8.   3.  -5.   4.]\n",
      " [  0.   0. -11.   7. -11.   1.]]\n",
      "[07-05 16:11:35][INFO] \n",
      "[[  1.    0.    0.   -1.    3.8   0.8]\n",
      " [  0.    1.    0.    3.  -12.    6. ]\n",
      " [  0.    0.   -5.    0.    7.   -3. ]\n",
      " [  0.    0.    0.    3.  -16.2   8.8]\n",
      " [  0.    0.    0.    7.  -26.4   7.6]]\n",
      "[07-05 16:11:35][INFO] \n",
      "[[  1.           0.           0.           0.          -1.6\n",
      "    3.73333333]\n",
      " [  0.           1.           0.           0.           4.2\n",
      "   -2.8       ]\n",
      " [  0.           0.          -5.           0.           7.\n",
      "   -3.        ]\n",
      " [  0.           0.           0.           3.         -16.2\n",
      "    8.8       ]\n",
      " [  0.           0.           0.           0.          11.4\n",
      "  -12.93333333]]\n",
      "[07-05 16:11:35][INFO] \n",
      "[[ 1.00000000e+00  0.00000000e+00  0.00000000e+00  0.00000000e+00\n",
      "  -2.22044605e-16  1.91812865e+00]\n",
      " [ 0.00000000e+00  1.00000000e+00  0.00000000e+00  0.00000000e+00\n",
      "   0.00000000e+00  1.96491228e+00]\n",
      " [ 0.00000000e+00  0.00000000e+00 -5.00000000e+00  0.00000000e+00\n",
      "   0.00000000e+00  4.94152047e+00]\n",
      " [ 0.00000000e+00  0.00000000e+00  0.00000000e+00  3.00000000e+00\n",
      "   0.00000000e+00 -9.57894737e+00]\n",
      " [ 0.00000000e+00  0.00000000e+00  0.00000000e+00  0.00000000e+00\n",
      "   1.14000000e+01 -1.29333333e+01]]\n"
     ]
    },
    {
     "data": {
      "text/plain": [
       "(array([ 1.91812865,  1.96491228, -0.98830409, -3.19298246, -1.13450292]),\n",
       " 60,\n",
       " 85)"
      ]
     },
     "execution_count": 121,
     "metadata": {},
     "output_type": "execute_result"
    }
   ],
   "source": [
    "%autoreload 2\n",
    "from src import gauss_jordan\n",
    "# ejercicio 7.d\n",
    "A = [\n",
    "    [1, 0, 2, -1, 1, 2],\n",
    "    [2, 1, -1, 1, -3, 7],\n",
    "    [3, 1, -4, 0, 5, 6],\n",
    "    [1, -1, -1, -1, 1, 3],\n",
    "    [0, -2, -1, 1, -1, -5],\n",
    "]\n",
    "gauss_jordan(A)"
   ]
  },
  {
   "cell_type": "code",
   "execution_count": 115,
   "metadata": {},
   "outputs": [],
   "source": [
    "mults_j = lambda n: n**3 / 2 + n**2 - n / 2\n",
    "adds_j = lambda n: n**3 / 2 - n / 2"
   ]
  },
  {
   "cell_type": "code",
   "execution_count": 116,
   "metadata": {},
   "outputs": [
    {
     "data": {
      "text/plain": [
       "(60.0, 85.0)"
      ]
     },
     "execution_count": 116,
     "metadata": {},
     "output_type": "execute_result"
    }
   ],
   "source": [
    "adds_j(5), mults_j(5)"
   ]
  }
 ],
 "metadata": {
  "kernelspec": {
   "display_name": "Python 3",
   "language": "python",
   "name": "python3"
  },
  "language_info": {
   "codemirror_mode": {
    "name": "ipython",
    "version": 3
   },
   "file_extension": ".py",
   "mimetype": "text/x-python",
   "name": "python",
   "nbconvert_exporter": "python",
   "pygments_lexer": "ipython3",
   "version": "3.10.11"
  }
 },
 "nbformat": 4,
 "nbformat_minor": 2
}
